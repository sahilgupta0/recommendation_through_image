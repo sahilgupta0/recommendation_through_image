{
 "cells": [
  {
   "cell_type": "code",
   "execution_count": 1,
   "id": "ab0a1b41",
   "metadata": {},
   "outputs": [
    {
     "name": "stdout",
     "output_type": "stream",
     "text": [
      "Name: tensorflow\n",
      "Version: 2.16.1\n",
      "Summary: TensorFlow is an open source machine learning framework for everyone.\n",
      "Home-page: https://www.tensorflow.org/\n",
      "Author: Google Inc.\n",
      "Author-email: packages@tensorflow.org\n",
      "License: Apache 2.0\n",
      "Location: C:\\Users\\Rishu Jaiswal\\anaconda3\\Lib\\site-packages\n",
      "Requires: tensorflow-intel\n",
      "Required-by: \n"
     ]
    }
   ],
   "source": [
    "!pip show tensorflow "
   ]
  },
  {
   "cell_type": "code",
   "execution_count": 2,
   "id": "b2a69d76",
   "metadata": {},
   "outputs": [],
   "source": [
    "import tensorflow\n",
    "from tensorflow.keras.preprocessing import image\n",
    "from tensorflow.keras.layers import GlobalMaxPooling2D\n",
    "from tensorflow.keras.applications.resnet50 import ResNet50,preprocess_input"
   ]
  },
  {
   "cell_type": "code",
   "execution_count": 3,
   "id": "f05f7e0f",
   "metadata": {},
   "outputs": [
    {
     "data": {
      "text/html": [
       "<pre style=\"white-space:pre;overflow-x:auto;line-height:normal;font-family:Menlo,'DejaVu Sans Mono',consolas,'Courier New',monospace\"><span style=\"font-weight: bold\">Model: \"sequential\"</span>\n",
       "</pre>\n"
      ],
      "text/plain": [
       "\u001b[1mModel: \"sequential\"\u001b[0m\n"
      ]
     },
     "metadata": {},
     "output_type": "display_data"
    },
    {
     "data": {
      "text/html": [
       "<pre style=\"white-space:pre;overflow-x:auto;line-height:normal;font-family:Menlo,'DejaVu Sans Mono',consolas,'Courier New',monospace\">┏━━━━━━━━━━━━━━━━━━━━━━━━━━━━━━━━━━━━━━┳━━━━━━━━━━━━━━━━━━━━━━━━━━━━━┳━━━━━━━━━━━━━━━━━┓\n",
       "┃<span style=\"font-weight: bold\"> Layer (type)                         </span>┃<span style=\"font-weight: bold\"> Output Shape                </span>┃<span style=\"font-weight: bold\">         Param # </span>┃\n",
       "┡━━━━━━━━━━━━━━━━━━━━━━━━━━━━━━━━━━━━━━╇━━━━━━━━━━━━━━━━━━━━━━━━━━━━━╇━━━━━━━━━━━━━━━━━┩\n",
       "│ resnet50 (<span style=\"color: #0087ff; text-decoration-color: #0087ff\">Functional</span>)                │ (<span style=\"color: #00af00; text-decoration-color: #00af00\">1</span>, <span style=\"color: #00af00; text-decoration-color: #00af00\">7</span>, <span style=\"color: #00af00; text-decoration-color: #00af00\">7</span>, <span style=\"color: #00af00; text-decoration-color: #00af00\">2048</span>)             │      <span style=\"color: #00af00; text-decoration-color: #00af00\">23,587,712</span> │\n",
       "├──────────────────────────────────────┼─────────────────────────────┼─────────────────┤\n",
       "│ global_max_pooling2d                 │ (<span style=\"color: #00af00; text-decoration-color: #00af00\">1</span>, <span style=\"color: #00af00; text-decoration-color: #00af00\">2048</span>)                   │               <span style=\"color: #00af00; text-decoration-color: #00af00\">0</span> │\n",
       "│ (<span style=\"color: #0087ff; text-decoration-color: #0087ff\">GlobalMaxPooling2D</span>)                 │                             │                 │\n",
       "└──────────────────────────────────────┴─────────────────────────────┴─────────────────┘\n",
       "</pre>\n"
      ],
      "text/plain": [
       "┏━━━━━━━━━━━━━━━━━━━━━━━━━━━━━━━━━━━━━━┳━━━━━━━━━━━━━━━━━━━━━━━━━━━━━┳━━━━━━━━━━━━━━━━━┓\n",
       "┃\u001b[1m \u001b[0m\u001b[1mLayer (type)                        \u001b[0m\u001b[1m \u001b[0m┃\u001b[1m \u001b[0m\u001b[1mOutput Shape               \u001b[0m\u001b[1m \u001b[0m┃\u001b[1m \u001b[0m\u001b[1m        Param #\u001b[0m\u001b[1m \u001b[0m┃\n",
       "┡━━━━━━━━━━━━━━━━━━━━━━━━━━━━━━━━━━━━━━╇━━━━━━━━━━━━━━━━━━━━━━━━━━━━━╇━━━━━━━━━━━━━━━━━┩\n",
       "│ resnet50 (\u001b[38;5;33mFunctional\u001b[0m)                │ (\u001b[38;5;34m1\u001b[0m, \u001b[38;5;34m7\u001b[0m, \u001b[38;5;34m7\u001b[0m, \u001b[38;5;34m2048\u001b[0m)             │      \u001b[38;5;34m23,587,712\u001b[0m │\n",
       "├──────────────────────────────────────┼─────────────────────────────┼─────────────────┤\n",
       "│ global_max_pooling2d                 │ (\u001b[38;5;34m1\u001b[0m, \u001b[38;5;34m2048\u001b[0m)                   │               \u001b[38;5;34m0\u001b[0m │\n",
       "│ (\u001b[38;5;33mGlobalMaxPooling2D\u001b[0m)                 │                             │                 │\n",
       "└──────────────────────────────────────┴─────────────────────────────┴─────────────────┘\n"
      ]
     },
     "metadata": {},
     "output_type": "display_data"
    },
    {
     "data": {
      "text/html": [
       "<pre style=\"white-space:pre;overflow-x:auto;line-height:normal;font-family:Menlo,'DejaVu Sans Mono',consolas,'Courier New',monospace\"><span style=\"font-weight: bold\"> Total params: </span><span style=\"color: #00af00; text-decoration-color: #00af00\">23,587,712</span> (89.98 MB)\n",
       "</pre>\n"
      ],
      "text/plain": [
       "\u001b[1m Total params: \u001b[0m\u001b[38;5;34m23,587,712\u001b[0m (89.98 MB)\n"
      ]
     },
     "metadata": {},
     "output_type": "display_data"
    },
    {
     "data": {
      "text/html": [
       "<pre style=\"white-space:pre;overflow-x:auto;line-height:normal;font-family:Menlo,'DejaVu Sans Mono',consolas,'Courier New',monospace\"><span style=\"font-weight: bold\"> Trainable params: </span><span style=\"color: #00af00; text-decoration-color: #00af00\">0</span> (0.00 B)\n",
       "</pre>\n"
      ],
      "text/plain": [
       "\u001b[1m Trainable params: \u001b[0m\u001b[38;5;34m0\u001b[0m (0.00 B)\n"
      ]
     },
     "metadata": {},
     "output_type": "display_data"
    },
    {
     "data": {
      "text/html": [
       "<pre style=\"white-space:pre;overflow-x:auto;line-height:normal;font-family:Menlo,'DejaVu Sans Mono',consolas,'Courier New',monospace\"><span style=\"font-weight: bold\"> Non-trainable params: </span><span style=\"color: #00af00; text-decoration-color: #00af00\">23,587,712</span> (89.98 MB)\n",
       "</pre>\n"
      ],
      "text/plain": [
       "\u001b[1m Non-trainable params: \u001b[0m\u001b[38;5;34m23,587,712\u001b[0m (89.98 MB)\n"
      ]
     },
     "metadata": {},
     "output_type": "display_data"
    },
    {
     "name": "stdout",
     "output_type": "stream",
     "text": [
      "None\n",
      "Output shape: (1, 2048)\n"
     ]
    }
   ],
   "source": [
    "import tensorflow as tf\n",
    "from tensorflow.keras.applications import ResNet50\n",
    "from tensorflow.keras.layers import GlobalMaxPooling2D\n",
    "\n",
    "# Create the ResNet50 base model\n",
    "base_model = ResNet50(weights='imagenet', include_top=False, input_shape=(224, 224, 3))\n",
    "base_model.trainable = False\n",
    "\n",
    "# Create the Sequential model\n",
    "model = tf.keras.Sequential([\n",
    "    base_model,\n",
    "    GlobalMaxPooling2D()\n",
    "])\n",
    "\n",
    "\n",
    "dummy_input = tf.zeros((1, 224, 224, 3))  # Create a dummy input tensor\n",
    "output_shape = model(dummy_input).shape  # Pass the dummy input through the model to get the output shape\n",
    "\n",
    "# Print the model summary\n",
    "print(model.summary())\n",
    "\n",
    "# Print the output shape of the model\n",
    "print(\"Output shape:\", output_shape)\n"
   ]
  },
  {
   "cell_type": "code",
   "execution_count": 4,
   "id": "6a5f3de3",
   "metadata": {},
   "outputs": [],
   "source": [
    "import numpy as np\n",
    "from numpy.linalg import norm\n",
    "def extract_features(img_path,model):\n",
    "    img = image.load_img(img_path,target_size=(224,224))\n",
    "    img_array = image.img_to_array(img)\n",
    "    expanded_img_array = np.expand_dims(img_array, axis = 0)\n",
    "    preprocessed_img = preprocess_input(expanded_img_array)\n",
    "    result = model.predict(preprocessed_img).flatten()\n",
    "    normalized_result = result/ norm(result)\n",
    "    \n",
    "    return normalized_result\n",
    "    \n",
    "    \n",
    "    "
   ]
  },
  {
   "cell_type": "code",
   "execution_count": 5,
   "id": "a5baa031",
   "metadata": {},
   "outputs": [
    {
     "name": "stdout",
     "output_type": "stream",
     "text": [
      "['1163.jpg', '1164.jpg', '1165.jpg', '1525.jpg', '1526.jpg', '1528.jpg', '1529.jpg', '1530.jpg', '1531.jpg', '1532.jpg', '1533.jpg', '1534.jpg', '1535.jpg', '1536.jpg', '1537.jpg', '1538.jpg', '1539.jpg', '1540.jpg', '1541.jpg', '1542.jpg', '1543.jpg', '1544.jpg', '1545.jpg', '1546.jpg', '1547.jpg', '1548.jpg', '1549.jpg', '1550.jpg', '1551.jpg', '1552.jpg', '1553.jpg', '1554.jpg', '1555.jpg', '1556.jpg', '1557.jpg', '1558.jpg', '1559.jpg', '1561.jpg', '1562.jpg', '1563.jpg', '1565.jpg', '1566.jpg', '1567.jpg', '1569.jpg', '1570.jpg', '1571.jpg', '1572.jpg', '1573.jpg', '1575.jpg', '1577.jpg', '1578.jpg', '1579.jpg', '1580.jpg', '1581.jpg', '1582.jpg', '1583.jpg', '1584.jpg', '1587.jpg', '1588.jpg', '1590.jpg', '1591.jpg', '1592.jpg', '1594.jpg', '1595.jpg', '1596.jpg', '1597.jpg', '1598.jpg', '1599.jpg', '1603.jpg', '1604.jpg', '1605.jpg', '1607.jpg', '1608.jpg', '1609.jpg', '1610.jpg', '1611.jpg', '1612.jpg', '1613.jpg', '1614.jpg', '1615.jpg', '1616.jpg', '1617.jpg', '1618.jpg', '1619.jpg', '1620.jpg', '1621.jpg', '1622.jpg', '1623.jpg', '1624.jpg', '1625.jpg', '1626.jpg', '1627.jpg', '1628.jpg', '1634.jpg', '1635.jpg', '1636.jpg', '1637.jpg', '1638.jpg', '1641.jpg', '1642.jpg', '1644.jpg', '1645.jpg', '1646.jpg', '1647.jpg', '1648.jpg', '1649.jpg', '1651.jpg', '1653.jpg', '1654.jpg', '1656.jpg', '1657.jpg', '1658.jpg', '1662.jpg', '1668.jpg', '1670.jpg', '1671.jpg', '1673.jpg', '1678.jpg', '1689.jpg', '1697.jpg', '1727.jpg', '1728.jpg', '1729.jpg', '1730.jpg', '1731.jpg', '1752.jpg', '1754.jpg', '1755.jpg', '1756.jpg', '1757.jpg', '1758.jpg', '1759.jpg']\n"
     ]
    }
   ],
   "source": [
    "import os\n",
    "\n",
    "print(os.listdir(\"C:\\\\Users\\\\Rishu Jaiswal\\\\AI_TECH\\\\fashion-dataset\\\\fashion-dataset\\\\Test_image\"))"
   ]
  },
  {
   "cell_type": "code",
   "execution_count": 6,
   "id": "addbfe93",
   "metadata": {},
   "outputs": [
    {
     "name": "stderr",
     "output_type": "stream",
     "text": [
      "\r",
      "  0%|                                                                                          | 0/132 [00:00<?, ?it/s]"
     ]
    },
    {
     "name": "stdout",
     "output_type": "stream",
     "text": [
      "\u001b[1m1/1\u001b[0m \u001b[32m━━━━━━━━━━━━━━━━━━━━\u001b[0m\u001b[37m\u001b[0m \u001b[1m2s\u001b[0m 2s/step\n"
     ]
    },
    {
     "name": "stderr",
     "output_type": "stream",
     "text": [
      "\r",
      "  1%|▌                                                                                 | 1/132 [00:02<04:29,  2.06s/it]"
     ]
    },
    {
     "name": "stdout",
     "output_type": "stream",
     "text": [
      "\u001b[1m1/1\u001b[0m \u001b[32m━━━━━━━━━━━━━━━━━━━━\u001b[0m\u001b[37m\u001b[0m \u001b[1m0s\u001b[0m 90ms/step\n"
     ]
    },
    {
     "name": "stderr",
     "output_type": "stream",
     "text": [
      "\r",
      "  2%|█▏                                                                                | 2/132 [00:02<02:02,  1.06it/s]"
     ]
    },
    {
     "name": "stdout",
     "output_type": "stream",
     "text": [
      "\u001b[1m1/1\u001b[0m \u001b[32m━━━━━━━━━━━━━━━━━━━━\u001b[0m\u001b[37m\u001b[0m \u001b[1m0s\u001b[0m 153ms/step\n"
     ]
    },
    {
     "name": "stderr",
     "output_type": "stream",
     "text": [
      "\r",
      "  2%|█▊                                                                                | 3/132 [00:02<01:18,  1.65it/s]"
     ]
    },
    {
     "name": "stdout",
     "output_type": "stream",
     "text": [
      "\u001b[1m1/1\u001b[0m \u001b[32m━━━━━━━━━━━━━━━━━━━━\u001b[0m\u001b[37m\u001b[0m \u001b[1m0s\u001b[0m 85ms/step\n"
     ]
    },
    {
     "name": "stderr",
     "output_type": "stream",
     "text": [
      "\r",
      "  3%|██▍                                                                               | 4/132 [00:02<00:55,  2.32it/s]"
     ]
    },
    {
     "name": "stdout",
     "output_type": "stream",
     "text": [
      "\u001b[1m1/1\u001b[0m \u001b[32m━━━━━━━━━━━━━━━━━━━━\u001b[0m\u001b[37m\u001b[0m \u001b[1m0s\u001b[0m 87ms/step\n"
     ]
    },
    {
     "name": "stderr",
     "output_type": "stream",
     "text": [
      "\r",
      "  4%|███                                                                               | 5/132 [00:02<00:41,  3.08it/s]"
     ]
    },
    {
     "name": "stdout",
     "output_type": "stream",
     "text": [
      "\u001b[1m1/1\u001b[0m \u001b[32m━━━━━━━━━━━━━━━━━━━━\u001b[0m\u001b[37m\u001b[0m \u001b[1m0s\u001b[0m 172ms/step\n"
     ]
    },
    {
     "name": "stderr",
     "output_type": "stream",
     "text": [
      "\r",
      "  5%|███▋                                                                              | 6/132 [00:03<00:39,  3.20it/s]"
     ]
    },
    {
     "name": "stdout",
     "output_type": "stream",
     "text": [
      "\u001b[1m1/1\u001b[0m \u001b[32m━━━━━━━━━━━━━━━━━━━━\u001b[0m\u001b[37m\u001b[0m \u001b[1m0s\u001b[0m 149ms/step\n"
     ]
    },
    {
     "name": "stderr",
     "output_type": "stream",
     "text": [
      "\r",
      "  5%|████▎                                                                             | 7/132 [00:03<00:36,  3.42it/s]"
     ]
    },
    {
     "name": "stdout",
     "output_type": "stream",
     "text": [
      "\u001b[1m1/1\u001b[0m \u001b[32m━━━━━━━━━━━━━━━━━━━━\u001b[0m\u001b[37m\u001b[0m \u001b[1m0s\u001b[0m 87ms/step\n"
     ]
    },
    {
     "name": "stderr",
     "output_type": "stream",
     "text": [
      "\r",
      "  6%|████▉                                                                             | 8/132 [00:03<00:32,  3.84it/s]"
     ]
    },
    {
     "name": "stdout",
     "output_type": "stream",
     "text": [
      "\u001b[1m1/1\u001b[0m \u001b[32m━━━━━━━━━━━━━━━━━━━━\u001b[0m\u001b[37m\u001b[0m \u001b[1m0s\u001b[0m 77ms/step\n"
     ]
    },
    {
     "name": "stderr",
     "output_type": "stream",
     "text": [
      "\r",
      "  7%|█████▌                                                                            | 9/132 [00:03<00:27,  4.54it/s]"
     ]
    },
    {
     "name": "stdout",
     "output_type": "stream",
     "text": [
      "\u001b[1m1/1\u001b[0m \u001b[32m━━━━━━━━━━━━━━━━━━━━\u001b[0m\u001b[37m\u001b[0m \u001b[1m0s\u001b[0m 91ms/step\n"
     ]
    },
    {
     "name": "stderr",
     "output_type": "stream",
     "text": [
      "\r",
      "  8%|██████▏                                                                          | 10/132 [00:03<00:24,  4.94it/s]"
     ]
    },
    {
     "name": "stdout",
     "output_type": "stream",
     "text": [
      "\u001b[1m1/1\u001b[0m \u001b[32m━━━━━━━━━━━━━━━━━━━━\u001b[0m\u001b[37m\u001b[0m \u001b[1m0s\u001b[0m 150ms/step\n"
     ]
    },
    {
     "name": "stderr",
     "output_type": "stream",
     "text": [
      "\r",
      "  8%|██████▊                                                                          | 11/132 [00:03<00:25,  4.82it/s]"
     ]
    },
    {
     "name": "stdout",
     "output_type": "stream",
     "text": [
      "\u001b[1m1/1\u001b[0m \u001b[32m━━━━━━━━━━━━━━━━━━━━\u001b[0m\u001b[37m\u001b[0m \u001b[1m0s\u001b[0m 141ms/step\n"
     ]
    },
    {
     "name": "stderr",
     "output_type": "stream",
     "text": [
      "\r",
      "  9%|███████▎                                                                         | 12/132 [00:04<00:26,  4.58it/s]"
     ]
    },
    {
     "name": "stdout",
     "output_type": "stream",
     "text": [
      "\u001b[1m1/1\u001b[0m \u001b[32m━━━━━━━━━━━━━━━━━━━━\u001b[0m\u001b[37m\u001b[0m \u001b[1m0s\u001b[0m 80ms/step\n"
     ]
    },
    {
     "name": "stderr",
     "output_type": "stream",
     "text": [
      "\r",
      " 10%|███████▉                                                                         | 13/132 [00:04<00:23,  4.99it/s]"
     ]
    },
    {
     "name": "stdout",
     "output_type": "stream",
     "text": [
      "\u001b[1m1/1\u001b[0m \u001b[32m━━━━━━━━━━━━━━━━━━━━\u001b[0m\u001b[37m\u001b[0m \u001b[1m0s\u001b[0m 130ms/step\n"
     ]
    },
    {
     "name": "stderr",
     "output_type": "stream",
     "text": [
      "\r",
      " 11%|████████▌                                                                        | 14/132 [00:04<00:23,  5.01it/s]"
     ]
    },
    {
     "name": "stdout",
     "output_type": "stream",
     "text": [
      "\u001b[1m1/1\u001b[0m \u001b[32m━━━━━━━━━━━━━━━━━━━━\u001b[0m\u001b[37m\u001b[0m \u001b[1m0s\u001b[0m 84ms/step\n"
     ]
    },
    {
     "name": "stderr",
     "output_type": "stream",
     "text": [
      "\r",
      " 11%|█████████▏                                                                       | 15/132 [00:04<00:21,  5.38it/s]"
     ]
    },
    {
     "name": "stdout",
     "output_type": "stream",
     "text": [
      "\u001b[1m1/1\u001b[0m \u001b[32m━━━━━━━━━━━━━━━━━━━━\u001b[0m\u001b[37m\u001b[0m \u001b[1m0s\u001b[0m 91ms/step\n"
     ]
    },
    {
     "name": "stderr",
     "output_type": "stream",
     "text": [
      "\r",
      " 12%|█████████▊                                                                       | 16/132 [00:04<00:21,  5.36it/s]"
     ]
    },
    {
     "name": "stdout",
     "output_type": "stream",
     "text": [
      "\u001b[1m1/1\u001b[0m \u001b[32m━━━━━━━━━━━━━━━━━━━━\u001b[0m\u001b[37m\u001b[0m \u001b[1m0s\u001b[0m 80ms/step\n"
     ]
    },
    {
     "name": "stderr",
     "output_type": "stream",
     "text": [
      "\r",
      " 13%|██████████▍                                                                      | 17/132 [00:05<00:19,  5.86it/s]"
     ]
    },
    {
     "name": "stdout",
     "output_type": "stream",
     "text": [
      "\u001b[1m1/1\u001b[0m \u001b[32m━━━━━━━━━━━━━━━━━━━━\u001b[0m\u001b[37m\u001b[0m \u001b[1m0s\u001b[0m 82ms/step\n"
     ]
    },
    {
     "name": "stderr",
     "output_type": "stream",
     "text": [
      "\r",
      " 14%|███████████                                                                      | 18/132 [00:05<00:18,  6.22it/s]"
     ]
    },
    {
     "name": "stdout",
     "output_type": "stream",
     "text": [
      "\u001b[1m1/1\u001b[0m \u001b[32m━━━━━━━━━━━━━━━━━━━━\u001b[0m\u001b[37m\u001b[0m \u001b[1m0s\u001b[0m 83ms/step\n"
     ]
    },
    {
     "name": "stderr",
     "output_type": "stream",
     "text": [
      "\r",
      " 14%|███████████▋                                                                     | 19/132 [00:05<00:18,  6.27it/s]"
     ]
    },
    {
     "name": "stdout",
     "output_type": "stream",
     "text": [
      "\u001b[1m1/1\u001b[0m \u001b[32m━━━━━━━━━━━━━━━━━━━━\u001b[0m\u001b[37m\u001b[0m \u001b[1m0s\u001b[0m 86ms/step\n"
     ]
    },
    {
     "name": "stderr",
     "output_type": "stream",
     "text": [
      "\r",
      " 15%|████████████▎                                                                    | 20/132 [00:05<00:17,  6.59it/s]"
     ]
    },
    {
     "name": "stdout",
     "output_type": "stream",
     "text": [
      "\u001b[1m1/1\u001b[0m \u001b[32m━━━━━━━━━━━━━━━━━━━━\u001b[0m\u001b[37m\u001b[0m \u001b[1m0s\u001b[0m 93ms/step\n"
     ]
    },
    {
     "name": "stderr",
     "output_type": "stream",
     "text": [
      "\r",
      " 16%|████████████▉                                                                    | 21/132 [00:05<00:17,  6.43it/s]"
     ]
    },
    {
     "name": "stdout",
     "output_type": "stream",
     "text": [
      "\u001b[1m1/1\u001b[0m \u001b[32m━━━━━━━━━━━━━━━━━━━━\u001b[0m\u001b[37m\u001b[0m \u001b[1m0s\u001b[0m 79ms/step\n"
     ]
    },
    {
     "name": "stderr",
     "output_type": "stream",
     "text": [
      "\r",
      " 17%|█████████████▌                                                                   | 22/132 [00:05<00:17,  6.43it/s]"
     ]
    },
    {
     "name": "stdout",
     "output_type": "stream",
     "text": [
      "\u001b[1m1/1\u001b[0m \u001b[32m━━━━━━━━━━━━━━━━━━━━\u001b[0m\u001b[37m\u001b[0m \u001b[1m0s\u001b[0m 92ms/step\n"
     ]
    },
    {
     "name": "stderr",
     "output_type": "stream",
     "text": [
      "\r",
      " 17%|██████████████                                                                   | 23/132 [00:05<00:17,  6.40it/s]"
     ]
    },
    {
     "name": "stdout",
     "output_type": "stream",
     "text": [
      "\u001b[1m1/1\u001b[0m \u001b[32m━━━━━━━━━━━━━━━━━━━━\u001b[0m\u001b[37m\u001b[0m \u001b[1m0s\u001b[0m 82ms/step\n"
     ]
    },
    {
     "name": "stderr",
     "output_type": "stream",
     "text": [
      "\r",
      " 18%|██████████████▋                                                                  | 24/132 [00:06<00:16,  6.47it/s]"
     ]
    },
    {
     "name": "stdout",
     "output_type": "stream",
     "text": [
      "\u001b[1m1/1\u001b[0m \u001b[32m━━━━━━━━━━━━━━━━━━━━\u001b[0m\u001b[37m\u001b[0m \u001b[1m0s\u001b[0m 85ms/step\n"
     ]
    },
    {
     "name": "stderr",
     "output_type": "stream",
     "text": [
      "\r",
      " 19%|███████████████▎                                                                 | 25/132 [00:06<00:16,  6.43it/s]"
     ]
    },
    {
     "name": "stdout",
     "output_type": "stream",
     "text": [
      "\u001b[1m1/1\u001b[0m \u001b[32m━━━━━━━━━━━━━━━━━━━━\u001b[0m\u001b[37m\u001b[0m \u001b[1m0s\u001b[0m 87ms/step\n"
     ]
    },
    {
     "name": "stderr",
     "output_type": "stream",
     "text": [
      "\r",
      " 20%|███████████████▉                                                                 | 26/132 [00:06<00:16,  6.35it/s]"
     ]
    },
    {
     "name": "stdout",
     "output_type": "stream",
     "text": [
      "\u001b[1m1/1\u001b[0m \u001b[32m━━━━━━━━━━━━━━━━━━━━\u001b[0m\u001b[37m\u001b[0m \u001b[1m0s\u001b[0m 80ms/step\n"
     ]
    },
    {
     "name": "stderr",
     "output_type": "stream",
     "text": [
      "\r",
      " 20%|████████████████▌                                                                | 27/132 [00:06<00:16,  6.37it/s]"
     ]
    },
    {
     "name": "stdout",
     "output_type": "stream",
     "text": [
      "\u001b[1m1/1\u001b[0m \u001b[32m━━━━━━━━━━━━━━━━━━━━\u001b[0m\u001b[37m\u001b[0m \u001b[1m0s\u001b[0m 82ms/step\n"
     ]
    },
    {
     "name": "stderr",
     "output_type": "stream",
     "text": [
      "\r",
      " 21%|█████████████████▏                                                               | 28/132 [00:06<00:16,  6.41it/s]"
     ]
    },
    {
     "name": "stdout",
     "output_type": "stream",
     "text": [
      "\u001b[1m1/1\u001b[0m \u001b[32m━━━━━━━━━━━━━━━━━━━━\u001b[0m\u001b[37m\u001b[0m \u001b[1m0s\u001b[0m 79ms/step\n"
     ]
    },
    {
     "name": "stderr",
     "output_type": "stream",
     "text": [
      "\r",
      " 22%|█████████████████▊                                                               | 29/132 [00:06<00:15,  6.51it/s]"
     ]
    },
    {
     "name": "stdout",
     "output_type": "stream",
     "text": [
      "\u001b[1m1/1\u001b[0m \u001b[32m━━━━━━━━━━━━━━━━━━━━\u001b[0m\u001b[37m\u001b[0m \u001b[1m0s\u001b[0m 173ms/step\n"
     ]
    },
    {
     "name": "stderr",
     "output_type": "stream",
     "text": [
      "\r",
      " 23%|██████████████████▍                                                              | 30/132 [00:07<00:19,  5.25it/s]"
     ]
    },
    {
     "name": "stdout",
     "output_type": "stream",
     "text": [
      "\u001b[1m1/1\u001b[0m \u001b[32m━━━━━━━━━━━━━━━━━━━━\u001b[0m\u001b[37m\u001b[0m \u001b[1m0s\u001b[0m 87ms/step\n"
     ]
    },
    {
     "name": "stderr",
     "output_type": "stream",
     "text": [
      "\r",
      " 23%|███████████████████                                                              | 31/132 [00:07<00:18,  5.45it/s]"
     ]
    },
    {
     "name": "stdout",
     "output_type": "stream",
     "text": [
      "\u001b[1m1/1\u001b[0m \u001b[32m━━━━━━━━━━━━━━━━━━━━\u001b[0m\u001b[37m\u001b[0m \u001b[1m0s\u001b[0m 86ms/step\n"
     ]
    },
    {
     "name": "stderr",
     "output_type": "stream",
     "text": [
      "\r",
      " 24%|███████████████████▋                                                             | 32/132 [00:07<00:17,  5.74it/s]"
     ]
    },
    {
     "name": "stdout",
     "output_type": "stream",
     "text": [
      "\u001b[1m1/1\u001b[0m \u001b[32m━━━━━━━━━━━━━━━━━━━━\u001b[0m\u001b[37m\u001b[0m \u001b[1m0s\u001b[0m 81ms/step\n"
     ]
    },
    {
     "name": "stderr",
     "output_type": "stream",
     "text": [
      "\r",
      " 25%|████████████████████▎                                                            | 33/132 [00:07<00:16,  5.99it/s]"
     ]
    },
    {
     "name": "stdout",
     "output_type": "stream",
     "text": [
      "\u001b[1m1/1\u001b[0m \u001b[32m━━━━━━━━━━━━━━━━━━━━\u001b[0m\u001b[37m\u001b[0m \u001b[1m0s\u001b[0m 80ms/step\n"
     ]
    },
    {
     "name": "stderr",
     "output_type": "stream",
     "text": [
      "\r",
      " 26%|████████████████████▊                                                            | 34/132 [00:07<00:16,  6.07it/s]"
     ]
    },
    {
     "name": "stdout",
     "output_type": "stream",
     "text": [
      "\u001b[1m1/1\u001b[0m \u001b[32m━━━━━━━━━━━━━━━━━━━━\u001b[0m\u001b[37m\u001b[0m \u001b[1m0s\u001b[0m 76ms/step\n"
     ]
    },
    {
     "name": "stderr",
     "output_type": "stream",
     "text": [
      "\r",
      " 27%|█████████████████████▍                                                           | 35/132 [00:07<00:15,  6.13it/s]"
     ]
    },
    {
     "name": "stdout",
     "output_type": "stream",
     "text": [
      "\u001b[1m1/1\u001b[0m \u001b[32m━━━━━━━━━━━━━━━━━━━━\u001b[0m\u001b[37m\u001b[0m \u001b[1m0s\u001b[0m 86ms/step\n"
     ]
    },
    {
     "name": "stderr",
     "output_type": "stream",
     "text": [
      "\r",
      " 27%|██████████████████████                                                           | 36/132 [00:08<00:15,  6.23it/s]"
     ]
    },
    {
     "name": "stdout",
     "output_type": "stream",
     "text": [
      "\u001b[1m1/1\u001b[0m \u001b[32m━━━━━━━━━━━━━━━━━━━━\u001b[0m\u001b[37m\u001b[0m \u001b[1m0s\u001b[0m 81ms/step\n"
     ]
    },
    {
     "name": "stderr",
     "output_type": "stream",
     "text": [
      "\r",
      " 28%|██████████████████████▋                                                          | 37/132 [00:08<00:15,  6.19it/s]"
     ]
    },
    {
     "name": "stdout",
     "output_type": "stream",
     "text": [
      "\u001b[1m1/1\u001b[0m \u001b[32m━━━━━━━━━━━━━━━━━━━━\u001b[0m\u001b[37m\u001b[0m \u001b[1m0s\u001b[0m 75ms/step\n"
     ]
    },
    {
     "name": "stderr",
     "output_type": "stream",
     "text": [
      "\r",
      " 29%|███████████████████████▎                                                         | 38/132 [00:08<00:14,  6.31it/s]"
     ]
    },
    {
     "name": "stdout",
     "output_type": "stream",
     "text": [
      "\u001b[1m1/1\u001b[0m \u001b[32m━━━━━━━━━━━━━━━━━━━━\u001b[0m\u001b[37m\u001b[0m \u001b[1m0s\u001b[0m 82ms/step\n"
     ]
    },
    {
     "name": "stderr",
     "output_type": "stream",
     "text": [
      "\r",
      " 30%|███████████████████████▉                                                         | 39/132 [00:08<00:14,  6.61it/s]"
     ]
    },
    {
     "name": "stdout",
     "output_type": "stream",
     "text": [
      "\u001b[1m1/1\u001b[0m \u001b[32m━━━━━━━━━━━━━━━━━━━━\u001b[0m\u001b[37m\u001b[0m \u001b[1m0s\u001b[0m 83ms/step\n"
     ]
    },
    {
     "name": "stderr",
     "output_type": "stream",
     "text": [
      "\r",
      " 30%|████████████████████████▌                                                        | 40/132 [00:08<00:13,  6.82it/s]"
     ]
    },
    {
     "name": "stdout",
     "output_type": "stream",
     "text": [
      "\u001b[1m1/1\u001b[0m \u001b[32m━━━━━━━━━━━━━━━━━━━━\u001b[0m\u001b[37m\u001b[0m \u001b[1m0s\u001b[0m 84ms/step\n"
     ]
    },
    {
     "name": "stderr",
     "output_type": "stream",
     "text": [
      "\r",
      " 31%|█████████████████████████▏                                                       | 41/132 [00:08<00:13,  6.67it/s]"
     ]
    },
    {
     "name": "stdout",
     "output_type": "stream",
     "text": [
      "\u001b[1m1/1\u001b[0m \u001b[32m━━━━━━━━━━━━━━━━━━━━\u001b[0m\u001b[37m\u001b[0m \u001b[1m0s\u001b[0m 79ms/step\n"
     ]
    },
    {
     "name": "stderr",
     "output_type": "stream",
     "text": [
      "\r",
      " 32%|█████████████████████████▊                                                       | 42/132 [00:08<00:13,  6.65it/s]"
     ]
    },
    {
     "name": "stdout",
     "output_type": "stream",
     "text": [
      "\u001b[1m1/1\u001b[0m \u001b[32m━━━━━━━━━━━━━━━━━━━━\u001b[0m\u001b[37m\u001b[0m \u001b[1m0s\u001b[0m 80ms/step\n"
     ]
    },
    {
     "name": "stderr",
     "output_type": "stream",
     "text": [
      "\r",
      " 33%|██████████████████████████▍                                                      | 43/132 [00:09<00:13,  6.56it/s]"
     ]
    },
    {
     "name": "stdout",
     "output_type": "stream",
     "text": [
      "\u001b[1m1/1\u001b[0m \u001b[32m━━━━━━━━━━━━━━━━━━━━\u001b[0m\u001b[37m\u001b[0m \u001b[1m0s\u001b[0m 78ms/step\n"
     ]
    },
    {
     "name": "stderr",
     "output_type": "stream",
     "text": [
      "\r",
      " 33%|███████████████████████████                                                      | 44/132 [00:09<00:12,  6.84it/s]"
     ]
    },
    {
     "name": "stdout",
     "output_type": "stream",
     "text": [
      "\u001b[1m1/1\u001b[0m \u001b[32m━━━━━━━━━━━━━━━━━━━━\u001b[0m\u001b[37m\u001b[0m \u001b[1m0s\u001b[0m 82ms/step\n"
     ]
    },
    {
     "name": "stderr",
     "output_type": "stream",
     "text": [
      "\r",
      " 34%|███████████████████████████▌                                                     | 45/132 [00:09<00:12,  7.03it/s]"
     ]
    },
    {
     "name": "stdout",
     "output_type": "stream",
     "text": [
      "\u001b[1m1/1\u001b[0m \u001b[32m━━━━━━━━━━━━━━━━━━━━\u001b[0m\u001b[37m\u001b[0m \u001b[1m0s\u001b[0m 79ms/step\n"
     ]
    },
    {
     "name": "stderr",
     "output_type": "stream",
     "text": [
      "\r",
      " 35%|████████████████████████████▏                                                    | 46/132 [00:09<00:12,  6.97it/s]"
     ]
    },
    {
     "name": "stdout",
     "output_type": "stream",
     "text": [
      "\u001b[1m1/1\u001b[0m \u001b[32m━━━━━━━━━━━━━━━━━━━━\u001b[0m\u001b[37m\u001b[0m \u001b[1m0s\u001b[0m 84ms/step\n"
     ]
    },
    {
     "name": "stderr",
     "output_type": "stream",
     "text": [
      "\r",
      " 36%|████████████████████████████▊                                                    | 47/132 [00:09<00:12,  6.83it/s]"
     ]
    },
    {
     "name": "stdout",
     "output_type": "stream",
     "text": [
      "\u001b[1m1/1\u001b[0m \u001b[32m━━━━━━━━━━━━━━━━━━━━\u001b[0m\u001b[37m\u001b[0m \u001b[1m0s\u001b[0m 79ms/step\n"
     ]
    },
    {
     "name": "stderr",
     "output_type": "stream",
     "text": [
      "\r",
      " 36%|█████████████████████████████▍                                                   | 48/132 [00:09<00:11,  7.07it/s]"
     ]
    },
    {
     "name": "stdout",
     "output_type": "stream",
     "text": [
      "\u001b[1m1/1\u001b[0m \u001b[32m━━━━━━━━━━━━━━━━━━━━\u001b[0m\u001b[37m\u001b[0m \u001b[1m0s\u001b[0m 81ms/step\n"
     ]
    },
    {
     "name": "stderr",
     "output_type": "stream",
     "text": [
      "\r",
      " 37%|██████████████████████████████                                                   | 49/132 [00:09<00:11,  7.27it/s]"
     ]
    },
    {
     "name": "stdout",
     "output_type": "stream",
     "text": [
      "\u001b[1m1/1\u001b[0m \u001b[32m━━━━━━━━━━━━━━━━━━━━\u001b[0m\u001b[37m\u001b[0m \u001b[1m0s\u001b[0m 82ms/step\n"
     ]
    },
    {
     "name": "stderr",
     "output_type": "stream",
     "text": [
      "\r",
      " 38%|██████████████████████████████▋                                                  | 50/132 [00:10<00:11,  7.02it/s]"
     ]
    },
    {
     "name": "stdout",
     "output_type": "stream",
     "text": [
      "\u001b[1m1/1\u001b[0m \u001b[32m━━━━━━━━━━━━━━━━━━━━\u001b[0m\u001b[37m\u001b[0m \u001b[1m0s\u001b[0m 79ms/step\n"
     ]
    },
    {
     "name": "stderr",
     "output_type": "stream",
     "text": [
      "\r",
      " 39%|███████████████████████████████▎                                                 | 51/132 [00:10<00:11,  6.81it/s]"
     ]
    },
    {
     "name": "stdout",
     "output_type": "stream",
     "text": [
      "\u001b[1m1/1\u001b[0m \u001b[32m━━━━━━━━━━━━━━━━━━━━\u001b[0m\u001b[37m\u001b[0m \u001b[1m0s\u001b[0m 81ms/step\n"
     ]
    },
    {
     "name": "stderr",
     "output_type": "stream",
     "text": [
      "\r",
      " 39%|███████████████████████████████▉                                                 | 52/132 [00:10<00:11,  6.96it/s]"
     ]
    },
    {
     "name": "stdout",
     "output_type": "stream",
     "text": [
      "\u001b[1m1/1\u001b[0m \u001b[32m━━━━━━━━━━━━━━━━━━━━\u001b[0m\u001b[37m\u001b[0m \u001b[1m0s\u001b[0m 80ms/step\n"
     ]
    },
    {
     "name": "stderr",
     "output_type": "stream",
     "text": [
      "\r",
      " 40%|████████████████████████████████▌                                                | 53/132 [00:10<00:11,  6.67it/s]"
     ]
    },
    {
     "name": "stdout",
     "output_type": "stream",
     "text": [
      "\u001b[1m1/1\u001b[0m \u001b[32m━━━━━━━━━━━━━━━━━━━━\u001b[0m\u001b[37m\u001b[0m \u001b[1m0s\u001b[0m 79ms/step\n"
     ]
    },
    {
     "name": "stderr",
     "output_type": "stream",
     "text": [
      "\r",
      " 41%|█████████████████████████████████▏                                               | 54/132 [00:10<00:11,  6.51it/s]"
     ]
    },
    {
     "name": "stdout",
     "output_type": "stream",
     "text": [
      "\u001b[1m1/1\u001b[0m \u001b[32m━━━━━━━━━━━━━━━━━━━━\u001b[0m\u001b[37m\u001b[0m \u001b[1m0s\u001b[0m 82ms/step\n"
     ]
    },
    {
     "name": "stderr",
     "output_type": "stream",
     "text": [
      "\r",
      " 42%|█████████████████████████████████▊                                               | 55/132 [00:10<00:12,  6.36it/s]"
     ]
    },
    {
     "name": "stdout",
     "output_type": "stream",
     "text": [
      "\u001b[1m1/1\u001b[0m \u001b[32m━━━━━━━━━━━━━━━━━━━━\u001b[0m\u001b[37m\u001b[0m \u001b[1m0s\u001b[0m 81ms/step\n"
     ]
    },
    {
     "name": "stderr",
     "output_type": "stream",
     "text": [
      "\r",
      " 42%|██████████████████████████████████▎                                              | 56/132 [00:11<00:11,  6.56it/s]"
     ]
    },
    {
     "name": "stdout",
     "output_type": "stream",
     "text": [
      "\u001b[1m1/1\u001b[0m \u001b[32m━━━━━━━━━━━━━━━━━━━━\u001b[0m\u001b[37m\u001b[0m \u001b[1m0s\u001b[0m 81ms/step\n"
     ]
    },
    {
     "name": "stderr",
     "output_type": "stream",
     "text": [
      "\r",
      " 43%|██████████████████████████████████▉                                              | 57/132 [00:11<00:11,  6.41it/s]"
     ]
    },
    {
     "name": "stdout",
     "output_type": "stream",
     "text": [
      "\u001b[1m1/1\u001b[0m \u001b[32m━━━━━━━━━━━━━━━━━━━━\u001b[0m\u001b[37m\u001b[0m \u001b[1m0s\u001b[0m 81ms/step\n"
     ]
    },
    {
     "name": "stderr",
     "output_type": "stream",
     "text": [
      "\r",
      " 44%|███████████████████████████████████▌                                             | 58/132 [00:11<00:11,  6.63it/s]"
     ]
    },
    {
     "name": "stdout",
     "output_type": "stream",
     "text": [
      "\u001b[1m1/1\u001b[0m \u001b[32m━━━━━━━━━━━━━━━━━━━━\u001b[0m\u001b[37m\u001b[0m \u001b[1m0s\u001b[0m 87ms/step\n"
     ]
    },
    {
     "name": "stderr",
     "output_type": "stream",
     "text": [
      "\r",
      " 45%|████████████████████████████████████▏                                            | 59/132 [00:11<00:11,  6.36it/s]"
     ]
    },
    {
     "name": "stdout",
     "output_type": "stream",
     "text": [
      "\u001b[1m1/1\u001b[0m \u001b[32m━━━━━━━━━━━━━━━━━━━━\u001b[0m\u001b[37m\u001b[0m \u001b[1m0s\u001b[0m 81ms/step\n"
     ]
    },
    {
     "name": "stderr",
     "output_type": "stream",
     "text": [
      "\r",
      " 45%|████████████████████████████████████▊                                            | 60/132 [00:11<00:11,  6.34it/s]"
     ]
    },
    {
     "name": "stdout",
     "output_type": "stream",
     "text": [
      "\u001b[1m1/1\u001b[0m \u001b[32m━━━━━━━━━━━━━━━━━━━━\u001b[0m\u001b[37m\u001b[0m \u001b[1m0s\u001b[0m 82ms/step\n"
     ]
    },
    {
     "name": "stderr",
     "output_type": "stream",
     "text": [
      "\r",
      " 46%|█████████████████████████████████████▍                                           | 61/132 [00:11<00:11,  6.26it/s]"
     ]
    },
    {
     "name": "stdout",
     "output_type": "stream",
     "text": [
      "\u001b[1m1/1\u001b[0m \u001b[32m━━━━━━━━━━━━━━━━━━━━\u001b[0m\u001b[37m\u001b[0m \u001b[1m0s\u001b[0m 84ms/step\n"
     ]
    },
    {
     "name": "stderr",
     "output_type": "stream",
     "text": [
      "\r",
      " 47%|██████████████████████████████████████                                           | 62/132 [00:12<00:11,  6.21it/s]"
     ]
    },
    {
     "name": "stdout",
     "output_type": "stream",
     "text": [
      "\u001b[1m1/1\u001b[0m \u001b[32m━━━━━━━━━━━━━━━━━━━━\u001b[0m\u001b[37m\u001b[0m \u001b[1m0s\u001b[0m 82ms/step\n"
     ]
    },
    {
     "name": "stderr",
     "output_type": "stream",
     "text": [
      "\r",
      " 48%|██████████████████████████████████████▋                                          | 63/132 [00:12<00:10,  6.46it/s]"
     ]
    },
    {
     "name": "stdout",
     "output_type": "stream",
     "text": [
      "\u001b[1m1/1\u001b[0m \u001b[32m━━━━━━━━━━━━━━━━━━━━\u001b[0m\u001b[37m\u001b[0m \u001b[1m0s\u001b[0m 82ms/step\n"
     ]
    },
    {
     "name": "stderr",
     "output_type": "stream",
     "text": [
      "\r",
      " 48%|███████████████████████████████████████▎                                         | 64/132 [00:12<00:10,  6.31it/s]"
     ]
    },
    {
     "name": "stdout",
     "output_type": "stream",
     "text": [
      "\u001b[1m1/1\u001b[0m \u001b[32m━━━━━━━━━━━━━━━━━━━━\u001b[0m\u001b[37m\u001b[0m \u001b[1m0s\u001b[0m 96ms/step\n"
     ]
    },
    {
     "name": "stderr",
     "output_type": "stream",
     "text": [
      "\r",
      " 49%|███████████████████████████████████████▉                                         | 65/132 [00:12<00:10,  6.36it/s]"
     ]
    },
    {
     "name": "stdout",
     "output_type": "stream",
     "text": [
      "\u001b[1m1/1\u001b[0m \u001b[32m━━━━━━━━━━━━━━━━━━━━\u001b[0m\u001b[37m\u001b[0m \u001b[1m0s\u001b[0m 96ms/step\n"
     ]
    },
    {
     "name": "stderr",
     "output_type": "stream",
     "text": [
      "\r",
      " 50%|████████████████████████████████████████▌                                        | 66/132 [00:12<00:10,  6.09it/s]"
     ]
    },
    {
     "name": "stdout",
     "output_type": "stream",
     "text": [
      "\u001b[1m1/1\u001b[0m \u001b[32m━━━━━━━━━━━━━━━━━━━━\u001b[0m\u001b[37m\u001b[0m \u001b[1m0s\u001b[0m 82ms/step\n"
     ]
    },
    {
     "name": "stderr",
     "output_type": "stream",
     "text": [
      "\r",
      " 51%|█████████████████████████████████████████                                        | 67/132 [00:12<00:10,  6.07it/s]"
     ]
    },
    {
     "name": "stdout",
     "output_type": "stream",
     "text": [
      "\u001b[1m1/1\u001b[0m \u001b[32m━━━━━━━━━━━━━━━━━━━━\u001b[0m\u001b[37m\u001b[0m \u001b[1m0s\u001b[0m 85ms/step\n"
     ]
    },
    {
     "name": "stderr",
     "output_type": "stream",
     "text": [
      "\r",
      " 52%|█████████████████████████████████████████▋                                       | 68/132 [00:12<00:10,  6.03it/s]"
     ]
    },
    {
     "name": "stdout",
     "output_type": "stream",
     "text": [
      "\u001b[1m1/1\u001b[0m \u001b[32m━━━━━━━━━━━━━━━━━━━━\u001b[0m\u001b[37m\u001b[0m \u001b[1m0s\u001b[0m 80ms/step\n"
     ]
    },
    {
     "name": "stderr",
     "output_type": "stream",
     "text": [
      "\r",
      " 52%|██████████████████████████████████████████▎                                      | 69/132 [00:13<00:10,  6.28it/s]"
     ]
    },
    {
     "name": "stdout",
     "output_type": "stream",
     "text": [
      "\u001b[1m1/1\u001b[0m \u001b[32m━━━━━━━━━━━━━━━━━━━━\u001b[0m\u001b[37m\u001b[0m \u001b[1m0s\u001b[0m 84ms/step\n"
     ]
    },
    {
     "name": "stderr",
     "output_type": "stream",
     "text": [
      "\r",
      " 53%|██████████████████████████████████████████▉                                      | 70/132 [00:13<00:09,  6.52it/s]"
     ]
    },
    {
     "name": "stdout",
     "output_type": "stream",
     "text": [
      "\u001b[1m1/1\u001b[0m \u001b[32m━━━━━━━━━━━━━━━━━━━━\u001b[0m\u001b[37m\u001b[0m \u001b[1m0s\u001b[0m 86ms/step\n"
     ]
    },
    {
     "name": "stderr",
     "output_type": "stream",
     "text": [
      "\r",
      " 54%|███████████████████████████████████████████▌                                     | 71/132 [00:13<00:09,  6.64it/s]"
     ]
    },
    {
     "name": "stdout",
     "output_type": "stream",
     "text": [
      "\u001b[1m1/1\u001b[0m \u001b[32m━━━━━━━━━━━━━━━━━━━━\u001b[0m\u001b[37m\u001b[0m \u001b[1m0s\u001b[0m 126ms/step\n"
     ]
    },
    {
     "name": "stderr",
     "output_type": "stream",
     "text": [
      "\r",
      " 55%|████████████████████████████████████████████▏                                    | 72/132 [00:13<00:09,  6.16it/s]"
     ]
    },
    {
     "name": "stdout",
     "output_type": "stream",
     "text": [
      "\u001b[1m1/1\u001b[0m \u001b[32m━━━━━━━━━━━━━━━━━━━━\u001b[0m\u001b[37m\u001b[0m \u001b[1m0s\u001b[0m 127ms/step\n"
     ]
    },
    {
     "name": "stderr",
     "output_type": "stream",
     "text": [
      "\r",
      " 55%|████████████████████████████████████████████▊                                    | 73/132 [00:13<00:10,  5.78it/s]"
     ]
    },
    {
     "name": "stdout",
     "output_type": "stream",
     "text": [
      "\u001b[1m1/1\u001b[0m \u001b[32m━━━━━━━━━━━━━━━━━━━━\u001b[0m\u001b[37m\u001b[0m \u001b[1m0s\u001b[0m 124ms/step\n"
     ]
    },
    {
     "name": "stderr",
     "output_type": "stream",
     "text": [
      "\r",
      " 56%|█████████████████████████████████████████████▍                                   | 74/132 [00:14<00:10,  5.56it/s]"
     ]
    },
    {
     "name": "stdout",
     "output_type": "stream",
     "text": [
      "\u001b[1m1/1\u001b[0m \u001b[32m━━━━━━━━━━━━━━━━━━━━\u001b[0m\u001b[37m\u001b[0m \u001b[1m0s\u001b[0m 103ms/step\n"
     ]
    },
    {
     "name": "stderr",
     "output_type": "stream",
     "text": [
      "\r",
      " 57%|██████████████████████████████████████████████                                   | 75/132 [00:14<00:10,  5.43it/s]"
     ]
    },
    {
     "name": "stdout",
     "output_type": "stream",
     "text": [
      "\u001b[1m1/1\u001b[0m \u001b[32m━━━━━━━━━━━━━━━━━━━━\u001b[0m\u001b[37m\u001b[0m \u001b[1m0s\u001b[0m 84ms/step\n"
     ]
    },
    {
     "name": "stderr",
     "output_type": "stream",
     "text": [
      "\r",
      " 58%|██████████████████████████████████████████████▋                                  | 76/132 [00:14<00:09,  5.80it/s]"
     ]
    },
    {
     "name": "stdout",
     "output_type": "stream",
     "text": [
      "\u001b[1m1/1\u001b[0m \u001b[32m━━━━━━━━━━━━━━━━━━━━\u001b[0m\u001b[37m\u001b[0m \u001b[1m0s\u001b[0m 80ms/step\n"
     ]
    },
    {
     "name": "stderr",
     "output_type": "stream",
     "text": [
      "\r",
      " 58%|███████████████████████████████████████████████▎                                 | 77/132 [00:14<00:08,  6.17it/s]"
     ]
    },
    {
     "name": "stdout",
     "output_type": "stream",
     "text": [
      "\u001b[1m1/1\u001b[0m \u001b[32m━━━━━━━━━━━━━━━━━━━━\u001b[0m\u001b[37m\u001b[0m \u001b[1m0s\u001b[0m 203ms/step\n"
     ]
    },
    {
     "name": "stderr",
     "output_type": "stream",
     "text": [
      "\r",
      " 59%|███████████████████████████████████████████████▊                                 | 78/132 [00:14<00:10,  5.12it/s]"
     ]
    },
    {
     "name": "stdout",
     "output_type": "stream",
     "text": [
      "\u001b[1m1/1\u001b[0m \u001b[32m━━━━━━━━━━━━━━━━━━━━\u001b[0m\u001b[37m\u001b[0m \u001b[1m0s\u001b[0m 92ms/step\n"
     ]
    },
    {
     "name": "stderr",
     "output_type": "stream",
     "text": [
      "\r",
      " 60%|████████████████████████████████████████████████▍                                | 79/132 [00:14<00:10,  5.07it/s]"
     ]
    },
    {
     "name": "stdout",
     "output_type": "stream",
     "text": [
      "\u001b[1m1/1\u001b[0m \u001b[32m━━━━━━━━━━━━━━━━━━━━\u001b[0m\u001b[37m\u001b[0m \u001b[1m0s\u001b[0m 88ms/step\n"
     ]
    },
    {
     "name": "stderr",
     "output_type": "stream",
     "text": [
      "\r",
      " 61%|█████████████████████████████████████████████████                                | 80/132 [00:15<00:09,  5.26it/s]"
     ]
    },
    {
     "name": "stdout",
     "output_type": "stream",
     "text": [
      "\u001b[1m1/1\u001b[0m \u001b[32m━━━━━━━━━━━━━━━━━━━━\u001b[0m\u001b[37m\u001b[0m \u001b[1m0s\u001b[0m 149ms/step\n"
     ]
    },
    {
     "name": "stderr",
     "output_type": "stream",
     "text": [
      "\r",
      " 61%|█████████████████████████████████████████████████▋                               | 81/132 [00:15<00:10,  4.80it/s]"
     ]
    },
    {
     "name": "stdout",
     "output_type": "stream",
     "text": [
      "\u001b[1m1/1\u001b[0m \u001b[32m━━━━━━━━━━━━━━━━━━━━\u001b[0m\u001b[37m\u001b[0m \u001b[1m0s\u001b[0m 136ms/step\n"
     ]
    },
    {
     "name": "stderr",
     "output_type": "stream",
     "text": [
      "\r",
      " 62%|██████████████████████████████████████████████████▎                              | 82/132 [00:15<00:10,  4.72it/s]"
     ]
    },
    {
     "name": "stdout",
     "output_type": "stream",
     "text": [
      "\u001b[1m1/1\u001b[0m \u001b[32m━━━━━━━━━━━━━━━━━━━━\u001b[0m\u001b[37m\u001b[0m \u001b[1m0s\u001b[0m 154ms/step\n"
     ]
    },
    {
     "name": "stderr",
     "output_type": "stream",
     "text": [
      "\r",
      " 63%|██████████████████████████████████████████████████▉                              | 83/132 [00:15<00:11,  4.39it/s]"
     ]
    },
    {
     "name": "stdout",
     "output_type": "stream",
     "text": [
      "\u001b[1m1/1\u001b[0m \u001b[32m━━━━━━━━━━━━━━━━━━━━\u001b[0m\u001b[37m\u001b[0m \u001b[1m0s\u001b[0m 160ms/step\n"
     ]
    },
    {
     "name": "stderr",
     "output_type": "stream",
     "text": [
      "\r",
      " 64%|███████████████████████████████████████████████████▌                             | 84/132 [00:16<00:11,  4.26it/s]"
     ]
    },
    {
     "name": "stdout",
     "output_type": "stream",
     "text": [
      "\u001b[1m1/1\u001b[0m \u001b[32m━━━━━━━━━━━━━━━━━━━━\u001b[0m\u001b[37m\u001b[0m \u001b[1m0s\u001b[0m 140ms/step\n"
     ]
    },
    {
     "name": "stderr",
     "output_type": "stream",
     "text": [
      "\r",
      " 64%|████████████████████████████████████████████████████▏                            | 85/132 [00:16<00:11,  4.16it/s]"
     ]
    },
    {
     "name": "stdout",
     "output_type": "stream",
     "text": [
      "\u001b[1m1/1\u001b[0m \u001b[32m━━━━━━━━━━━━━━━━━━━━\u001b[0m\u001b[37m\u001b[0m \u001b[1m0s\u001b[0m 90ms/step\n"
     ]
    },
    {
     "name": "stderr",
     "output_type": "stream",
     "text": [
      "\r",
      " 65%|████████████████████████████████████████████████████▊                            | 86/132 [00:16<00:10,  4.48it/s]"
     ]
    },
    {
     "name": "stdout",
     "output_type": "stream",
     "text": [
      "\u001b[1m1/1\u001b[0m \u001b[32m━━━━━━━━━━━━━━━━━━━━\u001b[0m\u001b[37m\u001b[0m \u001b[1m0s\u001b[0m 92ms/step\n"
     ]
    },
    {
     "name": "stderr",
     "output_type": "stream",
     "text": [
      "\r",
      " 66%|█████████████████████████████████████████████████████▍                           | 87/132 [00:16<00:09,  4.91it/s]"
     ]
    },
    {
     "name": "stdout",
     "output_type": "stream",
     "text": [
      "\u001b[1m1/1\u001b[0m \u001b[32m━━━━━━━━━━━━━━━━━━━━\u001b[0m\u001b[37m\u001b[0m \u001b[1m0s\u001b[0m 85ms/step\n"
     ]
    },
    {
     "name": "stderr",
     "output_type": "stream",
     "text": [
      "\r",
      " 67%|██████████████████████████████████████████████████████                           | 88/132 [00:16<00:08,  5.35it/s]"
     ]
    },
    {
     "name": "stdout",
     "output_type": "stream",
     "text": [
      "\u001b[1m1/1\u001b[0m \u001b[32m━━━━━━━━━━━━━━━━━━━━\u001b[0m\u001b[37m\u001b[0m \u001b[1m0s\u001b[0m 86ms/step\n"
     ]
    },
    {
     "name": "stderr",
     "output_type": "stream",
     "text": [
      "\r",
      " 67%|██████████████████████████████████████████████████████▌                          | 89/132 [00:17<00:07,  5.73it/s]"
     ]
    },
    {
     "name": "stdout",
     "output_type": "stream",
     "text": [
      "\u001b[1m1/1\u001b[0m \u001b[32m━━━━━━━━━━━━━━━━━━━━\u001b[0m\u001b[37m\u001b[0m \u001b[1m0s\u001b[0m 87ms/step\n"
     ]
    },
    {
     "name": "stderr",
     "output_type": "stream",
     "text": [
      "\r",
      " 68%|███████████████████████████████████████████████████████▏                         | 90/132 [00:17<00:07,  5.99it/s]"
     ]
    },
    {
     "name": "stdout",
     "output_type": "stream",
     "text": [
      "\u001b[1m1/1\u001b[0m \u001b[32m━━━━━━━━━━━━━━━━━━━━\u001b[0m\u001b[37m\u001b[0m \u001b[1m0s\u001b[0m 110ms/step\n"
     ]
    },
    {
     "name": "stderr",
     "output_type": "stream",
     "text": [
      "\r",
      " 69%|███████████████████████████████████████████████████████▊                         | 91/132 [00:17<00:07,  5.73it/s]"
     ]
    },
    {
     "name": "stdout",
     "output_type": "stream",
     "text": [
      "\u001b[1m1/1\u001b[0m \u001b[32m━━━━━━━━━━━━━━━━━━━━\u001b[0m\u001b[37m\u001b[0m \u001b[1m0s\u001b[0m 86ms/step\n"
     ]
    },
    {
     "name": "stderr",
     "output_type": "stream",
     "text": [
      "\r",
      " 70%|████████████████████████████████████████████████████████▍                        | 92/132 [00:17<00:06,  5.78it/s]"
     ]
    },
    {
     "name": "stdout",
     "output_type": "stream",
     "text": [
      "\u001b[1m1/1\u001b[0m \u001b[32m━━━━━━━━━━━━━━━━━━━━\u001b[0m\u001b[37m\u001b[0m \u001b[1m0s\u001b[0m 89ms/step\n"
     ]
    },
    {
     "name": "stderr",
     "output_type": "stream",
     "text": [
      "\r",
      " 70%|█████████████████████████████████████████████████████████                        | 93/132 [00:17<00:06,  5.73it/s]"
     ]
    },
    {
     "name": "stdout",
     "output_type": "stream",
     "text": [
      "\u001b[1m1/1\u001b[0m \u001b[32m━━━━━━━━━━━━━━━━━━━━\u001b[0m\u001b[37m\u001b[0m \u001b[1m0s\u001b[0m 87ms/step\n"
     ]
    },
    {
     "name": "stderr",
     "output_type": "stream",
     "text": [
      "\r",
      " 71%|█████████████████████████████████████████████████████████▋                       | 94/132 [00:17<00:06,  5.97it/s]"
     ]
    },
    {
     "name": "stdout",
     "output_type": "stream",
     "text": [
      "\u001b[1m1/1\u001b[0m \u001b[32m━━━━━━━━━━━━━━━━━━━━\u001b[0m\u001b[37m\u001b[0m \u001b[1m0s\u001b[0m 105ms/step\n"
     ]
    },
    {
     "name": "stderr",
     "output_type": "stream",
     "text": [
      "\r",
      " 72%|██████████████████████████████████████████████████████████▎                      | 95/132 [00:18<00:06,  5.81it/s]"
     ]
    },
    {
     "name": "stdout",
     "output_type": "stream",
     "text": [
      "\u001b[1m1/1\u001b[0m \u001b[32m━━━━━━━━━━━━━━━━━━━━\u001b[0m\u001b[37m\u001b[0m \u001b[1m0s\u001b[0m 92ms/step\n"
     ]
    },
    {
     "name": "stderr",
     "output_type": "stream",
     "text": [
      "\r",
      " 73%|██████████████████████████████████████████████████████████▉                      | 96/132 [00:18<00:06,  5.99it/s]"
     ]
    },
    {
     "name": "stdout",
     "output_type": "stream",
     "text": [
      "\u001b[1m1/1\u001b[0m \u001b[32m━━━━━━━━━━━━━━━━━━━━\u001b[0m\u001b[37m\u001b[0m \u001b[1m0s\u001b[0m 89ms/step\n"
     ]
    },
    {
     "name": "stderr",
     "output_type": "stream",
     "text": [
      "\r",
      " 73%|███████████████████████████████████████████████████████████▌                     | 97/132 [00:18<00:05,  5.90it/s]"
     ]
    },
    {
     "name": "stdout",
     "output_type": "stream",
     "text": [
      "\u001b[1m1/1\u001b[0m \u001b[32m━━━━━━━━━━━━━━━━━━━━\u001b[0m\u001b[37m\u001b[0m \u001b[1m0s\u001b[0m 87ms/step\n"
     ]
    },
    {
     "name": "stderr",
     "output_type": "stream",
     "text": [
      "\r",
      " 74%|████████████████████████████████████████████████████████████▏                    | 98/132 [00:18<00:05,  5.94it/s]"
     ]
    },
    {
     "name": "stdout",
     "output_type": "stream",
     "text": [
      "\u001b[1m1/1\u001b[0m \u001b[32m━━━━━━━━━━━━━━━━━━━━\u001b[0m\u001b[37m\u001b[0m \u001b[1m0s\u001b[0m 100ms/step\n"
     ]
    },
    {
     "name": "stderr",
     "output_type": "stream",
     "text": [
      "\r",
      " 75%|████████████████████████████████████████████████████████████▊                    | 99/132 [00:18<00:05,  5.98it/s]"
     ]
    },
    {
     "name": "stdout",
     "output_type": "stream",
     "text": [
      "\u001b[1m1/1\u001b[0m \u001b[32m━━━━━━━━━━━━━━━━━━━━\u001b[0m\u001b[37m\u001b[0m \u001b[1m0s\u001b[0m 87ms/step\n"
     ]
    },
    {
     "name": "stderr",
     "output_type": "stream",
     "text": [
      "\r",
      " 76%|████████████████████████████████████████████████████████████▌                   | 100/132 [00:18<00:05,  5.88it/s]"
     ]
    },
    {
     "name": "stdout",
     "output_type": "stream",
     "text": [
      "\u001b[1m1/1\u001b[0m \u001b[32m━━━━━━━━━━━━━━━━━━━━\u001b[0m\u001b[37m\u001b[0m \u001b[1m0s\u001b[0m 90ms/step\n"
     ]
    },
    {
     "name": "stderr",
     "output_type": "stream",
     "text": [
      "\r",
      " 77%|█████████████████████████████████████████████████████████████▏                  | 101/132 [00:19<00:05,  6.05it/s]"
     ]
    },
    {
     "name": "stdout",
     "output_type": "stream",
     "text": [
      "\u001b[1m1/1\u001b[0m \u001b[32m━━━━━━━━━━━━━━━━━━━━\u001b[0m\u001b[37m\u001b[0m \u001b[1m0s\u001b[0m 89ms/step\n"
     ]
    },
    {
     "name": "stderr",
     "output_type": "stream",
     "text": [
      "\r",
      " 77%|█████████████████████████████████████████████████████████████▊                  | 102/132 [00:19<00:05,  5.95it/s]"
     ]
    },
    {
     "name": "stdout",
     "output_type": "stream",
     "text": [
      "\u001b[1m1/1\u001b[0m \u001b[32m━━━━━━━━━━━━━━━━━━━━\u001b[0m\u001b[37m\u001b[0m \u001b[1m0s\u001b[0m 90ms/step\n"
     ]
    },
    {
     "name": "stderr",
     "output_type": "stream",
     "text": [
      "\r",
      " 78%|██████████████████████████████████████████████████████████████▍                 | 103/132 [00:19<00:04,  5.93it/s]"
     ]
    },
    {
     "name": "stdout",
     "output_type": "stream",
     "text": [
      "\u001b[1m1/1\u001b[0m \u001b[32m━━━━━━━━━━━━━━━━━━━━\u001b[0m\u001b[37m\u001b[0m \u001b[1m0s\u001b[0m 88ms/step\n"
     ]
    },
    {
     "name": "stderr",
     "output_type": "stream",
     "text": [
      "\r",
      " 79%|███████████████████████████████████████████████████████████████                 | 104/132 [00:19<00:04,  5.92it/s]"
     ]
    },
    {
     "name": "stdout",
     "output_type": "stream",
     "text": [
      "\u001b[1m1/1\u001b[0m \u001b[32m━━━━━━━━━━━━━━━━━━━━\u001b[0m\u001b[37m\u001b[0m \u001b[1m0s\u001b[0m 87ms/step\n"
     ]
    },
    {
     "name": "stderr",
     "output_type": "stream",
     "text": [
      "\r",
      " 80%|███████████████████████████████████████████████████████████████▋                | 105/132 [00:19<00:04,  5.88it/s]"
     ]
    },
    {
     "name": "stdout",
     "output_type": "stream",
     "text": [
      "\u001b[1m1/1\u001b[0m \u001b[32m━━━━━━━━━━━━━━━━━━━━\u001b[0m\u001b[37m\u001b[0m \u001b[1m0s\u001b[0m 87ms/step\n"
     ]
    },
    {
     "name": "stderr",
     "output_type": "stream",
     "text": [
      "\r",
      " 80%|████████████████████████████████████████████████████████████████▏               | 106/132 [00:19<00:04,  6.09it/s]"
     ]
    },
    {
     "name": "stdout",
     "output_type": "stream",
     "text": [
      "\u001b[1m1/1\u001b[0m \u001b[32m━━━━━━━━━━━━━━━━━━━━\u001b[0m\u001b[37m\u001b[0m \u001b[1m0s\u001b[0m 89ms/step\n"
     ]
    },
    {
     "name": "stderr",
     "output_type": "stream",
     "text": [
      "\r",
      " 81%|████████████████████████████████████████████████████████████████▊               | 107/132 [00:20<00:04,  5.98it/s]"
     ]
    },
    {
     "name": "stdout",
     "output_type": "stream",
     "text": [
      "\u001b[1m1/1\u001b[0m \u001b[32m━━━━━━━━━━━━━━━━━━━━\u001b[0m\u001b[37m\u001b[0m \u001b[1m0s\u001b[0m 91ms/step\n"
     ]
    },
    {
     "name": "stderr",
     "output_type": "stream",
     "text": [
      "\r",
      " 82%|█████████████████████████████████████████████████████████████████▍              | 108/132 [00:20<00:04,  5.86it/s]"
     ]
    },
    {
     "name": "stdout",
     "output_type": "stream",
     "text": [
      "\u001b[1m1/1\u001b[0m \u001b[32m━━━━━━━━━━━━━━━━━━━━\u001b[0m\u001b[37m\u001b[0m \u001b[1m0s\u001b[0m 85ms/step\n"
     ]
    },
    {
     "name": "stderr",
     "output_type": "stream",
     "text": [
      "\r",
      " 83%|██████████████████████████████████████████████████████████████████              | 109/132 [00:20<00:03,  6.18it/s]"
     ]
    },
    {
     "name": "stdout",
     "output_type": "stream",
     "text": [
      "\u001b[1m1/1\u001b[0m \u001b[32m━━━━━━━━━━━━━━━━━━━━\u001b[0m\u001b[37m\u001b[0m \u001b[1m0s\u001b[0m 89ms/step\n"
     ]
    },
    {
     "name": "stderr",
     "output_type": "stream",
     "text": [
      "\r",
      " 83%|██████████████████████████████████████████████████████████████████▋             | 110/132 [00:20<00:03,  6.36it/s]"
     ]
    },
    {
     "name": "stdout",
     "output_type": "stream",
     "text": [
      "\u001b[1m1/1\u001b[0m \u001b[32m━━━━━━━━━━━━━━━━━━━━\u001b[0m\u001b[37m\u001b[0m \u001b[1m0s\u001b[0m 74ms/step\n"
     ]
    },
    {
     "name": "stderr",
     "output_type": "stream",
     "text": [
      "\r",
      " 84%|███████████████████████████████████████████████████████████████████▎            | 111/132 [00:20<00:03,  6.20it/s]"
     ]
    },
    {
     "name": "stdout",
     "output_type": "stream",
     "text": [
      "\u001b[1m1/1\u001b[0m \u001b[32m━━━━━━━━━━━━━━━━━━━━\u001b[0m\u001b[37m\u001b[0m \u001b[1m0s\u001b[0m 120ms/step\n"
     ]
    },
    {
     "name": "stderr",
     "output_type": "stream",
     "text": [
      "\r",
      " 85%|███████████████████████████████████████████████████████████████████▉            | 112/132 [00:20<00:03,  5.33it/s]"
     ]
    },
    {
     "name": "stdout",
     "output_type": "stream",
     "text": [
      "\u001b[1m1/1\u001b[0m \u001b[32m━━━━━━━━━━━━━━━━━━━━\u001b[0m\u001b[37m\u001b[0m \u001b[1m0s\u001b[0m 94ms/step\n"
     ]
    },
    {
     "name": "stderr",
     "output_type": "stream",
     "text": [
      "\r",
      " 86%|████████████████████████████████████████████████████████████████████▍           | 113/132 [00:21<00:03,  5.42it/s]"
     ]
    },
    {
     "name": "stdout",
     "output_type": "stream",
     "text": [
      "\u001b[1m1/1\u001b[0m \u001b[32m━━━━━━━━━━━━━━━━━━━━\u001b[0m\u001b[37m\u001b[0m \u001b[1m0s\u001b[0m 85ms/step\n"
     ]
    },
    {
     "name": "stderr",
     "output_type": "stream",
     "text": [
      "\r",
      " 86%|█████████████████████████████████████████████████████████████████████           | 114/132 [00:21<00:03,  5.79it/s]"
     ]
    },
    {
     "name": "stdout",
     "output_type": "stream",
     "text": [
      "\u001b[1m1/1\u001b[0m \u001b[32m━━━━━━━━━━━━━━━━━━━━\u001b[0m\u001b[37m\u001b[0m \u001b[1m0s\u001b[0m 83ms/step\n"
     ]
    },
    {
     "name": "stderr",
     "output_type": "stream",
     "text": [
      "\r",
      " 87%|█████████████████████████████████████████████████████████████████████▋          | 115/132 [00:21<00:02,  5.86it/s]"
     ]
    },
    {
     "name": "stdout",
     "output_type": "stream",
     "text": [
      "\u001b[1m1/1\u001b[0m \u001b[32m━━━━━━━━━━━━━━━━━━━━\u001b[0m\u001b[37m\u001b[0m \u001b[1m0s\u001b[0m 84ms/step\n"
     ]
    },
    {
     "name": "stderr",
     "output_type": "stream",
     "text": [
      "\r",
      " 88%|██████████████████████████████████████████████████████████████████████▎         | 116/132 [00:21<00:02,  5.91it/s]"
     ]
    },
    {
     "name": "stdout",
     "output_type": "stream",
     "text": [
      "\u001b[1m1/1\u001b[0m \u001b[32m━━━━━━━━━━━━━━━━━━━━\u001b[0m\u001b[37m\u001b[0m \u001b[1m0s\u001b[0m 79ms/step\n"
     ]
    },
    {
     "name": "stderr",
     "output_type": "stream",
     "text": [
      "\r",
      " 89%|██████████████████████████████████████████████████████████████████████▉         | 117/132 [00:21<00:02,  6.00it/s]"
     ]
    },
    {
     "name": "stdout",
     "output_type": "stream",
     "text": [
      "\u001b[1m1/1\u001b[0m \u001b[32m━━━━━━━━━━━━━━━━━━━━\u001b[0m\u001b[37m\u001b[0m \u001b[1m0s\u001b[0m 80ms/step\n"
     ]
    },
    {
     "name": "stderr",
     "output_type": "stream",
     "text": [
      "\r",
      " 89%|███████████████████████████████████████████████████████████████████████▌        | 118/132 [00:21<00:02,  6.07it/s]"
     ]
    },
    {
     "name": "stdout",
     "output_type": "stream",
     "text": [
      "\u001b[1m1/1\u001b[0m \u001b[32m━━━━━━━━━━━━━━━━━━━━\u001b[0m\u001b[37m\u001b[0m \u001b[1m0s\u001b[0m 85ms/step\n"
     ]
    },
    {
     "name": "stderr",
     "output_type": "stream",
     "text": [
      "\r",
      " 90%|████████████████████████████████████████████████████████████████████████        | 119/132 [00:22<00:02,  6.29it/s]"
     ]
    },
    {
     "name": "stdout",
     "output_type": "stream",
     "text": [
      "\u001b[1m1/1\u001b[0m \u001b[32m━━━━━━━━━━━━━━━━━━━━\u001b[0m\u001b[37m\u001b[0m \u001b[1m0s\u001b[0m 90ms/step\n"
     ]
    },
    {
     "name": "stderr",
     "output_type": "stream",
     "text": [
      "\r",
      " 91%|████████████████████████████████████████████████████████████████████████▋       | 120/132 [00:22<00:01,  6.27it/s]"
     ]
    },
    {
     "name": "stdout",
     "output_type": "stream",
     "text": [
      "\u001b[1m1/1\u001b[0m \u001b[32m━━━━━━━━━━━━━━━━━━━━\u001b[0m\u001b[37m\u001b[0m \u001b[1m0s\u001b[0m 82ms/step\n"
     ]
    },
    {
     "name": "stderr",
     "output_type": "stream",
     "text": [
      "\r",
      " 92%|█████████████████████████████████████████████████████████████████████████▎      | 121/132 [00:22<00:01,  6.55it/s]"
     ]
    },
    {
     "name": "stdout",
     "output_type": "stream",
     "text": [
      "\u001b[1m1/1\u001b[0m \u001b[32m━━━━━━━━━━━━━━━━━━━━\u001b[0m\u001b[37m\u001b[0m \u001b[1m0s\u001b[0m 84ms/step\n"
     ]
    },
    {
     "name": "stderr",
     "output_type": "stream",
     "text": [
      "\r",
      " 92%|█████████████████████████████████████████████████████████████████████████▉      | 122/132 [00:22<00:01,  6.70it/s]"
     ]
    },
    {
     "name": "stdout",
     "output_type": "stream",
     "text": [
      "\u001b[1m1/1\u001b[0m \u001b[32m━━━━━━━━━━━━━━━━━━━━\u001b[0m\u001b[37m\u001b[0m \u001b[1m0s\u001b[0m 90ms/step\n"
     ]
    },
    {
     "name": "stderr",
     "output_type": "stream",
     "text": [
      "\r",
      " 93%|██████████████████████████████████████████████████████████████████████████▌     | 123/132 [00:22<00:01,  6.76it/s]"
     ]
    },
    {
     "name": "stdout",
     "output_type": "stream",
     "text": [
      "\u001b[1m1/1\u001b[0m \u001b[32m━━━━━━━━━━━━━━━━━━━━\u001b[0m\u001b[37m\u001b[0m \u001b[1m0s\u001b[0m 86ms/step\n"
     ]
    },
    {
     "name": "stderr",
     "output_type": "stream",
     "text": [
      "\r",
      " 94%|███████████████████████████████████████████████████████████████████████████▏    | 124/132 [00:22<00:01,  6.56it/s]"
     ]
    },
    {
     "name": "stdout",
     "output_type": "stream",
     "text": [
      "\u001b[1m1/1\u001b[0m \u001b[32m━━━━━━━━━━━━━━━━━━━━\u001b[0m\u001b[37m\u001b[0m \u001b[1m0s\u001b[0m 94ms/step\n"
     ]
    },
    {
     "name": "stderr",
     "output_type": "stream",
     "text": [
      "\r",
      " 95%|███████████████████████████████████████████████████████████████████████████▊    | 125/132 [00:22<00:01,  6.35it/s]"
     ]
    },
    {
     "name": "stdout",
     "output_type": "stream",
     "text": [
      "\u001b[1m1/1\u001b[0m \u001b[32m━━━━━━━━━━━━━━━━━━━━\u001b[0m\u001b[37m\u001b[0m \u001b[1m0s\u001b[0m 81ms/step\n"
     ]
    },
    {
     "name": "stderr",
     "output_type": "stream",
     "text": [
      "\r",
      " 95%|████████████████████████████████████████████████████████████████████████████▎   | 126/132 [00:23<00:00,  6.51it/s]"
     ]
    },
    {
     "name": "stdout",
     "output_type": "stream",
     "text": [
      "\u001b[1m1/1\u001b[0m \u001b[32m━━━━━━━━━━━━━━━━━━━━\u001b[0m\u001b[37m\u001b[0m \u001b[1m0s\u001b[0m 81ms/step\n"
     ]
    },
    {
     "name": "stderr",
     "output_type": "stream",
     "text": [
      "\r",
      " 96%|████████████████████████████████████████████████████████████████████████████▉   | 127/132 [00:23<00:00,  6.39it/s]"
     ]
    },
    {
     "name": "stdout",
     "output_type": "stream",
     "text": [
      "\u001b[1m1/1\u001b[0m \u001b[32m━━━━━━━━━━━━━━━━━━━━\u001b[0m\u001b[37m\u001b[0m \u001b[1m0s\u001b[0m 80ms/step\n"
     ]
    },
    {
     "name": "stderr",
     "output_type": "stream",
     "text": [
      "\r",
      " 97%|█████████████████████████████████████████████████████████████████████████████▌  | 128/132 [00:23<00:00,  6.58it/s]"
     ]
    },
    {
     "name": "stdout",
     "output_type": "stream",
     "text": [
      "\u001b[1m1/1\u001b[0m \u001b[32m━━━━━━━━━━━━━━━━━━━━\u001b[0m\u001b[37m\u001b[0m \u001b[1m0s\u001b[0m 75ms/step\n"
     ]
    },
    {
     "name": "stderr",
     "output_type": "stream",
     "text": [
      "\r",
      " 98%|██████████████████████████████████████████████████████████████████████████████▏ | 129/132 [00:23<00:00,  6.45it/s]"
     ]
    },
    {
     "name": "stdout",
     "output_type": "stream",
     "text": [
      "\u001b[1m1/1\u001b[0m \u001b[32m━━━━━━━━━━━━━━━━━━━━\u001b[0m\u001b[37m\u001b[0m \u001b[1m0s\u001b[0m 84ms/step\n"
     ]
    },
    {
     "name": "stderr",
     "output_type": "stream",
     "text": [
      "\r",
      " 98%|██████████████████████████████████████████████████████████████████████████████▊ | 130/132 [00:23<00:00,  6.29it/s]"
     ]
    },
    {
     "name": "stdout",
     "output_type": "stream",
     "text": [
      "\u001b[1m1/1\u001b[0m \u001b[32m━━━━━━━━━━━━━━━━━━━━\u001b[0m\u001b[37m\u001b[0m \u001b[1m0s\u001b[0m 79ms/step\n"
     ]
    },
    {
     "name": "stderr",
     "output_type": "stream",
     "text": [
      "\r",
      " 99%|███████████████████████████████████████████████████████████████████████████████▍| 131/132 [00:23<00:00,  6.27it/s]"
     ]
    },
    {
     "name": "stdout",
     "output_type": "stream",
     "text": [
      "\u001b[1m1/1\u001b[0m \u001b[32m━━━━━━━━━━━━━━━━━━━━\u001b[0m\u001b[37m\u001b[0m \u001b[1m0s\u001b[0m 84ms/step\n"
     ]
    },
    {
     "name": "stderr",
     "output_type": "stream",
     "text": [
      "100%|████████████████████████████████████████████████████████████████████████████████| 132/132 [00:24<00:00,  5.49it/s]\n"
     ]
    }
   ],
   "source": [
    "from tqdm import tqdm\n",
    "filenames = []\n",
    "for file in os.listdir(\"C:\\\\Users\\\\Rishu Jaiswal\\\\AI_TECH\\\\fashion-dataset\\\\fashion-dataset\\\\Test_image\"):\n",
    "    filenames.append(os.path.join('C:\\\\Users\\\\Rishu Jaiswal\\\\AI_TECH\\\\fashion-dataset\\\\fashion-dataset\\\\Test_image',file))\n",
    "    \n",
    "feature_list = []\n",
    "\n",
    "for file in tqdm(filenames):\n",
    "    feature_list.append(extract_features(file,model))\n",
    "\n",
    "    \n",
    "    \n",
    "    "
   ]
  },
  {
   "cell_type": "code",
   "execution_count": 7,
   "id": "200ee33c",
   "metadata": {},
   "outputs": [
    {
     "data": {
      "text/plain": [
       "[array([0.01674356, 0.10849487, 0.01362585, ..., 0.        , 0.03603915,\n",
       "        0.02990709], dtype=float32),\n",
       " array([0.00792745, 0.11722136, 0.01789482, ..., 0.00371253, 0.01546775,\n",
       "        0.02995877], dtype=float32),\n",
       " array([0.02705696, 0.02156647, 0.        , ..., 0.0079345 , 0.        ,\n",
       "        0.02886755], dtype=float32),\n",
       " array([0.00440801, 0.04481736, 0.00817967, ..., 0.01032536, 0.00706475,\n",
       "        0.00085735], dtype=float32),\n",
       " array([0.        , 0.03284022, 0.006135  , ..., 0.0063535 , 0.05752384,\n",
       "        0.        ], dtype=float32),\n",
       " array([0.0031925 , 0.02115496, 0.00323056, ..., 0.        , 0.03165918,\n",
       "        0.01117543], dtype=float32),\n",
       " array([0.02502976, 0.03262069, 0.00303117, ..., 0.02406443, 0.01129418,\n",
       "        0.01880276], dtype=float32),\n",
       " array([0.02186187, 0.02674347, 0.00254134, ..., 0.02646738, 0.00814504,\n",
       "        0.01513482], dtype=float32),\n",
       " array([0.        , 0.05168107, 0.00128268, ..., 0.01505324, 0.        ,\n",
       "        0.01035539], dtype=float32),\n",
       " array([0.01316018, 0.06014223, 0.00409056, ..., 0.02915487, 0.00633792,\n",
       "        0.02933146], dtype=float32),\n",
       " array([0.01346135, 0.04860085, 0.        , ..., 0.00928066, 0.02541501,\n",
       "        0.02006918], dtype=float32),\n",
       " array([5.0224084e-03, 6.7591675e-02, 5.1385330e-05, ..., 7.1758321e-03,\n",
       "        0.0000000e+00, 2.5180828e-02], dtype=float32),\n",
       " array([0.        , 0.01392282, 0.        , ..., 0.01145673, 0.        ,\n",
       "        0.02082456], dtype=float32),\n",
       " array([0.        , 0.06115485, 0.        , ..., 0.00750514, 0.        ,\n",
       "        0.01396867], dtype=float32),\n",
       " array([0.01050736, 0.03655211, 0.00158622, ..., 0.02216384, 0.01930594,\n",
       "        0.01303861], dtype=float32),\n",
       " array([0.        , 0.06386054, 0.00745223, ..., 0.02090083, 0.        ,\n",
       "        0.02087749], dtype=float32),\n",
       " array([0.        , 0.06046296, 0.00818564, ..., 0.01727834, 0.        ,\n",
       "        0.03790437], dtype=float32),\n",
       " array([0.00963406, 0.04855847, 0.        , ..., 0.02175637, 0.        ,\n",
       "        0.02449243], dtype=float32),\n",
       " array([0.01931139, 0.00400564, 0.03263052, ..., 0.0189139 , 0.00949834,\n",
       "        0.00320916], dtype=float32),\n",
       " array([0.00175945, 0.        , 0.04645263, ..., 0.00727122, 0.01067564,\n",
       "        0.0056596 ], dtype=float32),\n",
       " array([0.02075122, 0.00955574, 0.03272833, ..., 0.01538913, 0.        ,\n",
       "        0.00021396], dtype=float32),\n",
       " array([0.01545051, 0.02010161, 0.00486878, ..., 0.0140429 , 0.00732369,\n",
       "        0.02942488], dtype=float32),\n",
       " array([0.00270534, 0.01805861, 0.01802918, ..., 0.01139505, 0.00517497,\n",
       "        0.02430319], dtype=float32),\n",
       " array([0.00739851, 0.01202882, 0.00649379, ..., 0.01924855, 0.01101649,\n",
       "        0.04012659], dtype=float32),\n",
       " array([0.00641275, 0.01411512, 0.01641077, ..., 0.0266    , 0.00591445,\n",
       "        0.02694677], dtype=float32),\n",
       " array([0.01952895, 0.00253765, 0.01248391, ..., 0.01754287, 0.0382109 ,\n",
       "        0.01321327], dtype=float32),\n",
       " array([0.01004608, 0.00884578, 0.00736437, ..., 0.02093527, 0.00875137,\n",
       "        0.01126513], dtype=float32),\n",
       " array([0.00232942, 0.00523237, 0.00277921, ..., 0.01326832, 0.01579964,\n",
       "        0.00407707], dtype=float32),\n",
       " array([0.00780493, 0.00686184, 0.0052067 , ..., 0.02524583, 0.00218589,\n",
       "        0.00480656], dtype=float32),\n",
       " array([0.00078729, 0.00281084, 0.        , ..., 0.02340794, 0.00620273,\n",
       "        0.        ], dtype=float32),\n",
       " array([0.00465532, 0.03099491, 0.00368088, ..., 0.03369806, 0.00359746,\n",
       "        0.        ], dtype=float32),\n",
       " array([0.01336098, 0.0093905 , 0.00400151, ..., 0.01848777, 0.0429737 ,\n",
       "        0.01872301], dtype=float32),\n",
       " array([0.01120066, 0.00274417, 0.01241135, ..., 0.02310882, 0.04738113,\n",
       "        0.02434474], dtype=float32),\n",
       " array([0.01925849, 0.0482543 , 0.00132868, ..., 0.01412319, 0.03154661,\n",
       "        0.        ], dtype=float32),\n",
       " array([0.0094397 , 0.05770787, 0.0118247 , ..., 0.02242355, 0.03712749,\n",
       "        0.        ], dtype=float32),\n",
       " array([0.        , 0.00329707, 0.00115721, ..., 0.01977689, 0.01102099,\n",
       "        0.02712182], dtype=float32),\n",
       " array([0.01206551, 0.0279279 , 0.00185194, ..., 0.00694862, 0.01677478,\n",
       "        0.00950507], dtype=float32),\n",
       " array([0.01532059, 0.03253501, 0.        , ..., 0.00520854, 0.00251577,\n",
       "        0.020219  ], dtype=float32),\n",
       " array([0.        , 0.05138612, 0.00311075, ..., 0.02106359, 0.        ,\n",
       "        0.00755063], dtype=float32),\n",
       " array([0.01474709, 0.05045143, 0.00213762, ..., 0.01286418, 0.00038962,\n",
       "        0.01272736], dtype=float32),\n",
       " array([0.02938881, 0.01399208, 0.00759218, ..., 0.03340344, 0.05191047,\n",
       "        0.01185839], dtype=float32),\n",
       " array([0.00464855, 0.01684837, 0.00274262, ..., 0.00823347, 0.        ,\n",
       "        0.07835045], dtype=float32),\n",
       " array([0.00762548, 0.02118403, 0.00380303, ..., 0.03594951, 0.00170768,\n",
       "        0.05043601], dtype=float32),\n",
       " array([0.01237865, 0.01176111, 0.00110216, ..., 0.03135324, 0.01524561,\n",
       "        0.03296305], dtype=float32),\n",
       " array([0.01290712, 0.03085313, 0.00183763, ..., 0.00490398, 0.        ,\n",
       "        0.00150651], dtype=float32),\n",
       " array([0.0063494 , 0.01295403, 0.01857581, ..., 0.00688308, 0.01075414,\n",
       "        0.02202973], dtype=float32),\n",
       " array([0.02378163, 0.01974282, 0.        , ..., 0.04336198, 0.00034939,\n",
       "        0.06998232], dtype=float32),\n",
       " array([0.00177169, 0.02362788, 0.00044174, ..., 0.02980904, 0.00392579,\n",
       "        0.03062818], dtype=float32),\n",
       " array([0.00332886, 0.03824815, 0.        , ..., 0.00731085, 0.00061803,\n",
       "        0.02629209], dtype=float32),\n",
       " array([0.00540084, 0.02566399, 0.00547349, ..., 0.01533018, 0.01062737,\n",
       "        0.03804022], dtype=float32),\n",
       " array([0.02408961, 0.04184576, 0.00047013, ..., 0.03406817, 0.02154089,\n",
       "        0.03019563], dtype=float32),\n",
       " array([0.02018714, 0.04816087, 0.0010823 , ..., 0.01455643, 0.00496874,\n",
       "        0.00249641], dtype=float32),\n",
       " array([0.01464505, 0.02807684, 0.00608032, ..., 0.02584243, 0.        ,\n",
       "        0.00834006], dtype=float32),\n",
       " array([0.00614932, 0.02938063, 0.0041683 , ..., 0.01905127, 0.00383427,\n",
       "        0.0238639 ], dtype=float32),\n",
       " array([0.00883936, 0.04523077, 0.        , ..., 0.01836034, 0.        ,\n",
       "        0.02481809], dtype=float32),\n",
       " array([0.00309824, 0.04508489, 0.00444115, ..., 0.00508689, 0.00406306,\n",
       "        0.01644132], dtype=float32),\n",
       " array([0.02182292, 0.01761485, 0.00082437, ..., 0.02662416, 0.        ,\n",
       "        0.05072094], dtype=float32),\n",
       " array([0.00841325, 0.00832164, 0.01376479, ..., 0.00145595, 0.00202576,\n",
       "        0.00586316], dtype=float32),\n",
       " array([0.        , 0.04100411, 0.00186584, ..., 0.02751289, 0.00562757,\n",
       "        0.03642511], dtype=float32),\n",
       " array([0.00236259, 0.01471244, 0.02013344, ..., 0.01152321, 0.02098951,\n",
       "        0.01614996], dtype=float32),\n",
       " array([0.02667731, 0.02140982, 0.        , ..., 0.01934734, 0.04680039,\n",
       "        0.04166441], dtype=float32),\n",
       " array([0.00371459, 0.0028727 , 0.00408645, ..., 0.0126086 , 0.        ,\n",
       "        0.01759722], dtype=float32),\n",
       " array([0.00315129, 0.00117846, 0.01651014, ..., 0.00543136, 0.0049842 ,\n",
       "        0.04157853], dtype=float32),\n",
       " array([0.        , 0.04329599, 0.00499199, ..., 0.03046989, 0.        ,\n",
       "        0.02571648], dtype=float32),\n",
       " array([0.00278014, 0.        , 0.        , ..., 0.01226463, 0.02017211,\n",
       "        0.01320465], dtype=float32),\n",
       " array([0.02050384, 0.00411352, 0.01030176, ..., 0.00354464, 0.02765409,\n",
       "        0.00113025], dtype=float32),\n",
       " array([0.03538816, 0.00980655, 0.01109624, ..., 0.00520383, 0.02276643,\n",
       "        0.00982295], dtype=float32),\n",
       " array([0.02633443, 0.00873467, 0.0079538 , ..., 0.01947792, 0.0141199 ,\n",
       "        0.00336831], dtype=float32),\n",
       " array([0.00204601, 0.05869372, 0.        , ..., 0.00506546, 0.00177022,\n",
       "        0.01310664], dtype=float32),\n",
       " array([0.0030698 , 0.01116483, 0.        , ..., 0.00215873, 0.02549741,\n",
       "        0.02784332], dtype=float32),\n",
       " array([0.01746034, 0.02935623, 0.        , ..., 0.00259794, 0.02141907,\n",
       "        0.03279563], dtype=float32),\n",
       " array([0.01602145, 0.02944524, 0.        , ..., 0.01516994, 0.01314253,\n",
       "        0.01561069], dtype=float32),\n",
       " array([0.00629282, 0.02996114, 0.        , ..., 0.00512493, 0.02082606,\n",
       "        0.02745816], dtype=float32),\n",
       " array([0.02440309, 0.03799757, 0.0004066 , ..., 0.00343862, 0.        ,\n",
       "        0.02817202], dtype=float32),\n",
       " array([0.0059701 , 0.00145486, 0.00102151, ..., 0.        , 0.03461155,\n",
       "        0.03162912], dtype=float32),\n",
       " array([0.00372392, 0.0217782 , 0.        , ..., 0.00590723, 0.01457016,\n",
       "        0.03112734], dtype=float32),\n",
       " array([0.        , 0.07957696, 0.00183282, ..., 0.0061069 , 0.02163813,\n",
       "        0.03884091], dtype=float32),\n",
       " array([0.00774222, 0.08147084, 0.01113833, ..., 0.00018506, 0.        ,\n",
       "        0.03868628], dtype=float32),\n",
       " array([0.00877248, 0.05475676, 0.00772053, ..., 0.00176176, 0.        ,\n",
       "        0.05475988], dtype=float32),\n",
       " array([0.01072868, 0.07889207, 0.00900019, ..., 0.01202086, 0.        ,\n",
       "        0.02396422], dtype=float32),\n",
       " array([0.00560613, 0.05967303, 0.01426509, ..., 0.00239682, 0.00490569,\n",
       "        0.05041488], dtype=float32),\n",
       " array([0.00461457, 0.04620676, 0.00321278, ..., 0.00019657, 0.01051872,\n",
       "        0.01497318], dtype=float32),\n",
       " array([0.0043048 , 0.00288508, 0.00418823, ..., 0.01710816, 0.01331304,\n",
       "        0.00997276], dtype=float32),\n",
       " array([0.00141048, 0.01822787, 0.00822745, ..., 0.0213936 , 0.01573534,\n",
       "        0.07728962], dtype=float32),\n",
       " array([0.00566509, 0.01863511, 0.00325466, ..., 0.02472683, 0.01413508,\n",
       "        0.04905999], dtype=float32),\n",
       " array([0.00554399, 0.012404  , 0.00596257, ..., 0.01776947, 0.01345237,\n",
       "        0.04441236], dtype=float32),\n",
       " array([0.00054333, 0.02231433, 0.00110937, ..., 0.0053588 , 0.02578761,\n",
       "        0.02742904], dtype=float32),\n",
       " array([0.00253658, 0.03685318, 0.        , ..., 0.00596834, 0.0749902 ,\n",
       "        0.0064493 ], dtype=float32),\n",
       " array([0.        , 0.03497416, 0.        , ..., 0.        , 0.0482627 ,\n",
       "        0.00713354], dtype=float32),\n",
       " array([0.00507697, 0.02640107, 0.00197877, ..., 0.01148744, 0.02928959,\n",
       "        0.02332617], dtype=float32),\n",
       " array([0.00283682, 0.00899408, 0.        , ..., 0.01917136, 0.00416314,\n",
       "        0.        ], dtype=float32),\n",
       " array([0.00237014, 0.01631406, 0.00296856, ..., 0.02945678, 0.05767964,\n",
       "        0.        ], dtype=float32),\n",
       " array([0.00037416, 0.00560419, 0.        , ..., 0.01514166, 0.04415704,\n",
       "        0.        ], dtype=float32),\n",
       " array([0.00626931, 0.00951545, 0.01526058, ..., 0.01018736, 0.00805005,\n",
       "        0.02202175], dtype=float32),\n",
       " array([0.        , 0.        , 0.00891247, ..., 0.        , 0.0020218 ,\n",
       "        0.        ], dtype=float32),\n",
       " array([0.0052027 , 0.00560467, 0.00797086, ..., 0.01185621, 0.01444656,\n",
       "        0.03197145], dtype=float32),\n",
       " array([0.00696756, 0.00673505, 0.00311565, ..., 0.00870101, 0.00149411,\n",
       "        0.00839946], dtype=float32),\n",
       " array([0.00548815, 0.00910188, 0.        , ..., 0.01506285, 0.00750847,\n",
       "        0.00610581], dtype=float32),\n",
       " array([0.01092586, 0.00443332, 0.0154244 , ..., 0.00826375, 0.01105198,\n",
       "        0.02992133], dtype=float32),\n",
       " array([0.        , 0.        , 0.00403021, ..., 0.00220358, 0.03076395,\n",
       "        0.        ], dtype=float32),\n",
       " array([0.0190064 , 0.11366297, 0.        , ..., 0.0155138 , 0.03087645,\n",
       "        0.05614816], dtype=float32),\n",
       " array([4.1659861e-03, 8.3912000e-02, 5.4389031e-05, ..., 2.1622786e-02,\n",
       "        1.0127546e-02, 2.8780412e-02], dtype=float32),\n",
       " array([0.00264546, 0.01185087, 0.        , ..., 0.02559924, 0.0049846 ,\n",
       "        0.00583664], dtype=float32),\n",
       " array([0.04169986, 0.        , 0.00948732, ..., 0.03097787, 0.02173961,\n",
       "        0.        ], dtype=float32),\n",
       " array([0.03602681, 0.00519899, 0.        , ..., 0.01462834, 0.01798099,\n",
       "        0.        ], dtype=float32),\n",
       " array([0.00803548, 0.00883209, 0.00256435, ..., 0.00417973, 0.01141864,\n",
       "        0.02499951], dtype=float32),\n",
       " array([0.0134369 , 0.02712421, 0.        , ..., 0.01090952, 0.        ,\n",
       "        0.06109658], dtype=float32),\n",
       " array([0.        , 0.00192376, 0.03070731, ..., 0.00692339, 0.01114416,\n",
       "        0.0229652 ], dtype=float32),\n",
       " array([0.00084804, 0.0028905 , 0.01257012, ..., 0.        , 0.        ,\n",
       "        0.00914467], dtype=float32),\n",
       " array([0.02083817, 0.02238868, 0.00519985, ..., 0.        , 0.01559973,\n",
       "        0.        ], dtype=float32),\n",
       " array([0.0005409 , 0.01871749, 0.0116979 , ..., 0.00974991, 0.        ,\n",
       "        0.03305601], dtype=float32),\n",
       " array([0.02890149, 0.05751448, 0.01189053, ..., 0.        , 0.01975329,\n",
       "        0.00144499], dtype=float32),\n",
       " array([0.02770803, 0.00993535, 0.        , ..., 0.00683098, 0.        ,\n",
       "        0.00993767], dtype=float32),\n",
       " array([0.0139891 , 0.04303081, 0.00356411, ..., 0.00141354, 0.01056752,\n",
       "        0.00373187], dtype=float32),\n",
       " array([0.02650617, 0.06460338, 0.        , ..., 0.00663268, 0.00132616,\n",
       "        0.04735405], dtype=float32),\n",
       " array([0.0302975 , 0.0633011 , 0.        , ..., 0.0102796 , 0.00104061,\n",
       "        0.00962316], dtype=float32),\n",
       " array([0.01296265, 0.06044696, 0.        , ..., 0.0093271 , 0.00129412,\n",
       "        0.00542358], dtype=float32),\n",
       " array([0.0005528 , 0.04796257, 0.00590046, ..., 0.0208591 , 0.00125116,\n",
       "        0.00873027], dtype=float32),\n",
       " array([0.00609041, 0.06447647, 0.01317389, ..., 0.00508469, 0.        ,\n",
       "        0.03795503], dtype=float32),\n",
       " array([0.01066827, 0.05668222, 0.00622169, ..., 0.02026507, 0.03542614,\n",
       "        0.00528282], dtype=float32),\n",
       " array([4.6345242e-03, 1.4934089e-05, 9.0681035e-03, ..., 1.7988063e-02,\n",
       "        1.8715821e-02, 2.8446743e-02], dtype=float32),\n",
       " array([0.01261461, 0.        , 0.04841327, ..., 0.00914601, 0.021083  ,\n",
       "        0.00883207], dtype=float32),\n",
       " array([0.00757274, 0.        , 0.01369868, ..., 0.00834385, 0.01966802,\n",
       "        0.03096416], dtype=float32),\n",
       " array([0.00230054, 0.        , 0.014239  , ..., 0.01056902, 0.01224855,\n",
       "        0.01416592], dtype=float32),\n",
       " array([0.00124828, 0.00921234, 0.01111624, ..., 0.00302208, 0.00643745,\n",
       "        0.02563334], dtype=float32),\n",
       " array([0.00864333, 0.04134643, 0.        , ..., 0.01175686, 0.02494509,\n",
       "        0.03247045], dtype=float32),\n",
       " array([0.        , 0.08968903, 0.        , ..., 0.02490027, 0.00133017,\n",
       "        0.02163448], dtype=float32),\n",
       " array([0.01088595, 0.04388353, 0.        , ..., 0.01236438, 0.02125858,\n",
       "        0.01943681], dtype=float32),\n",
       " array([0.01401005, 0.04194151, 0.        , ..., 0.03040048, 0.00266238,\n",
       "        0.02826265], dtype=float32),\n",
       " array([0.00575368, 0.0543987 , 0.01076041, ..., 0.02007804, 0.00203366,\n",
       "        0.00918624], dtype=float32),\n",
       " array([0.00771503, 0.02426306, 0.        , ..., 0.02076338, 0.03115225,\n",
       "        0.017638  ], dtype=float32),\n",
       " array([0.        , 0.05542964, 0.00190724, ..., 0.01249613, 0.02065673,\n",
       "        0.01652934], dtype=float32)]"
      ]
     },
     "execution_count": 7,
     "metadata": {},
     "output_type": "execute_result"
    }
   ],
   "source": [
    "feature_list"
   ]
  },
  {
   "cell_type": "code",
   "execution_count": 10,
   "id": "fae33e57",
   "metadata": {},
   "outputs": [
    {
     "name": "stdout",
     "output_type": "stream",
     "text": [
      "(132, 2048)\n"
     ]
    }
   ],
   "source": [
    "print(np.array(feature_list).shape)"
   ]
  },
  {
   "cell_type": "code",
   "execution_count": 12,
   "id": "56b8c777",
   "metadata": {},
   "outputs": [
    {
     "data": {
      "text/html": [
       "<div>\n",
       "<style scoped>\n",
       "    .dataframe tbody tr th:only-of-type {\n",
       "        vertical-align: middle;\n",
       "    }\n",
       "\n",
       "    .dataframe tbody tr th {\n",
       "        vertical-align: top;\n",
       "    }\n",
       "\n",
       "    .dataframe thead th {\n",
       "        text-align: right;\n",
       "    }\n",
       "</style>\n",
       "<table border=\"1\" class=\"dataframe\">\n",
       "  <thead>\n",
       "    <tr style=\"text-align: right;\">\n",
       "      <th></th>\n",
       "      <th>0</th>\n",
       "      <th>1</th>\n",
       "      <th>2</th>\n",
       "      <th>3</th>\n",
       "      <th>4</th>\n",
       "      <th>5</th>\n",
       "      <th>6</th>\n",
       "      <th>7</th>\n",
       "      <th>8</th>\n",
       "      <th>9</th>\n",
       "      <th>...</th>\n",
       "      <th>2038</th>\n",
       "      <th>2039</th>\n",
       "      <th>2040</th>\n",
       "      <th>2041</th>\n",
       "      <th>2042</th>\n",
       "      <th>2043</th>\n",
       "      <th>2044</th>\n",
       "      <th>2045</th>\n",
       "      <th>2046</th>\n",
       "      <th>2047</th>\n",
       "    </tr>\n",
       "  </thead>\n",
       "  <tbody>\n",
       "    <tr>\n",
       "      <th>0</th>\n",
       "      <td>0.016744</td>\n",
       "      <td>0.108495</td>\n",
       "      <td>0.013626</td>\n",
       "      <td>0.003791</td>\n",
       "      <td>0.000000</td>\n",
       "      <td>0.009039</td>\n",
       "      <td>0.019817</td>\n",
       "      <td>0.005525</td>\n",
       "      <td>0.004022</td>\n",
       "      <td>0.006196</td>\n",
       "      <td>...</td>\n",
       "      <td>0.057314</td>\n",
       "      <td>0.010364</td>\n",
       "      <td>0.016461</td>\n",
       "      <td>0.005144</td>\n",
       "      <td>0.006544</td>\n",
       "      <td>0.007788</td>\n",
       "      <td>0.018945</td>\n",
       "      <td>0.000000</td>\n",
       "      <td>0.036039</td>\n",
       "      <td>0.029907</td>\n",
       "    </tr>\n",
       "    <tr>\n",
       "      <th>1</th>\n",
       "      <td>0.007927</td>\n",
       "      <td>0.117221</td>\n",
       "      <td>0.017895</td>\n",
       "      <td>0.005206</td>\n",
       "      <td>0.013310</td>\n",
       "      <td>0.005422</td>\n",
       "      <td>0.023789</td>\n",
       "      <td>0.010967</td>\n",
       "      <td>0.000404</td>\n",
       "      <td>0.009620</td>\n",
       "      <td>...</td>\n",
       "      <td>0.053740</td>\n",
       "      <td>0.008365</td>\n",
       "      <td>0.006098</td>\n",
       "      <td>0.013394</td>\n",
       "      <td>0.002149</td>\n",
       "      <td>0.001031</td>\n",
       "      <td>0.013817</td>\n",
       "      <td>0.003713</td>\n",
       "      <td>0.015468</td>\n",
       "      <td>0.029959</td>\n",
       "    </tr>\n",
       "    <tr>\n",
       "      <th>2</th>\n",
       "      <td>0.027057</td>\n",
       "      <td>0.021566</td>\n",
       "      <td>0.000000</td>\n",
       "      <td>0.008298</td>\n",
       "      <td>0.002564</td>\n",
       "      <td>0.000038</td>\n",
       "      <td>0.026140</td>\n",
       "      <td>0.054689</td>\n",
       "      <td>0.000000</td>\n",
       "      <td>0.010843</td>\n",
       "      <td>...</td>\n",
       "      <td>0.006494</td>\n",
       "      <td>0.005756</td>\n",
       "      <td>0.001171</td>\n",
       "      <td>0.054404</td>\n",
       "      <td>0.007674</td>\n",
       "      <td>0.000000</td>\n",
       "      <td>0.014976</td>\n",
       "      <td>0.007934</td>\n",
       "      <td>0.000000</td>\n",
       "      <td>0.028868</td>\n",
       "    </tr>\n",
       "    <tr>\n",
       "      <th>3</th>\n",
       "      <td>0.004408</td>\n",
       "      <td>0.044817</td>\n",
       "      <td>0.008180</td>\n",
       "      <td>0.000635</td>\n",
       "      <td>0.024881</td>\n",
       "      <td>0.009360</td>\n",
       "      <td>0.003322</td>\n",
       "      <td>0.002923</td>\n",
       "      <td>0.008981</td>\n",
       "      <td>0.003228</td>\n",
       "      <td>...</td>\n",
       "      <td>0.003263</td>\n",
       "      <td>0.004417</td>\n",
       "      <td>0.000000</td>\n",
       "      <td>0.000000</td>\n",
       "      <td>0.007979</td>\n",
       "      <td>0.003409</td>\n",
       "      <td>0.100969</td>\n",
       "      <td>0.010325</td>\n",
       "      <td>0.007065</td>\n",
       "      <td>0.000857</td>\n",
       "    </tr>\n",
       "    <tr>\n",
       "      <th>4</th>\n",
       "      <td>0.000000</td>\n",
       "      <td>0.032840</td>\n",
       "      <td>0.006135</td>\n",
       "      <td>0.008018</td>\n",
       "      <td>0.012183</td>\n",
       "      <td>0.002373</td>\n",
       "      <td>0.004054</td>\n",
       "      <td>0.000000</td>\n",
       "      <td>0.000000</td>\n",
       "      <td>0.002682</td>\n",
       "      <td>...</td>\n",
       "      <td>0.000838</td>\n",
       "      <td>0.014696</td>\n",
       "      <td>0.008568</td>\n",
       "      <td>0.000000</td>\n",
       "      <td>0.004164</td>\n",
       "      <td>0.002513</td>\n",
       "      <td>0.002589</td>\n",
       "      <td>0.006353</td>\n",
       "      <td>0.057524</td>\n",
       "      <td>0.000000</td>\n",
       "    </tr>\n",
       "    <tr>\n",
       "      <th>...</th>\n",
       "      <td>...</td>\n",
       "      <td>...</td>\n",
       "      <td>...</td>\n",
       "      <td>...</td>\n",
       "      <td>...</td>\n",
       "      <td>...</td>\n",
       "      <td>...</td>\n",
       "      <td>...</td>\n",
       "      <td>...</td>\n",
       "      <td>...</td>\n",
       "      <td>...</td>\n",
       "      <td>...</td>\n",
       "      <td>...</td>\n",
       "      <td>...</td>\n",
       "      <td>...</td>\n",
       "      <td>...</td>\n",
       "      <td>...</td>\n",
       "      <td>...</td>\n",
       "      <td>...</td>\n",
       "      <td>...</td>\n",
       "      <td>...</td>\n",
       "    </tr>\n",
       "    <tr>\n",
       "      <th>127</th>\n",
       "      <td>0.010886</td>\n",
       "      <td>0.043884</td>\n",
       "      <td>0.000000</td>\n",
       "      <td>0.019042</td>\n",
       "      <td>0.000962</td>\n",
       "      <td>0.005288</td>\n",
       "      <td>0.023153</td>\n",
       "      <td>0.005172</td>\n",
       "      <td>0.000000</td>\n",
       "      <td>0.007133</td>\n",
       "      <td>...</td>\n",
       "      <td>0.034093</td>\n",
       "      <td>0.004905</td>\n",
       "      <td>0.011771</td>\n",
       "      <td>0.069656</td>\n",
       "      <td>0.000000</td>\n",
       "      <td>0.000000</td>\n",
       "      <td>0.013715</td>\n",
       "      <td>0.012364</td>\n",
       "      <td>0.021259</td>\n",
       "      <td>0.019437</td>\n",
       "    </tr>\n",
       "    <tr>\n",
       "      <th>128</th>\n",
       "      <td>0.014010</td>\n",
       "      <td>0.041942</td>\n",
       "      <td>0.000000</td>\n",
       "      <td>0.031901</td>\n",
       "      <td>0.000000</td>\n",
       "      <td>0.007595</td>\n",
       "      <td>0.019974</td>\n",
       "      <td>0.012921</td>\n",
       "      <td>0.000000</td>\n",
       "      <td>0.012657</td>\n",
       "      <td>...</td>\n",
       "      <td>0.026043</td>\n",
       "      <td>0.005394</td>\n",
       "      <td>0.004629</td>\n",
       "      <td>0.033064</td>\n",
       "      <td>0.000622</td>\n",
       "      <td>0.000000</td>\n",
       "      <td>0.014486</td>\n",
       "      <td>0.030400</td>\n",
       "      <td>0.002662</td>\n",
       "      <td>0.028263</td>\n",
       "    </tr>\n",
       "    <tr>\n",
       "      <th>129</th>\n",
       "      <td>0.005754</td>\n",
       "      <td>0.054399</td>\n",
       "      <td>0.010760</td>\n",
       "      <td>0.002073</td>\n",
       "      <td>0.000000</td>\n",
       "      <td>0.021180</td>\n",
       "      <td>0.024132</td>\n",
       "      <td>0.012696</td>\n",
       "      <td>0.000000</td>\n",
       "      <td>0.009076</td>\n",
       "      <td>...</td>\n",
       "      <td>0.008085</td>\n",
       "      <td>0.000174</td>\n",
       "      <td>0.006239</td>\n",
       "      <td>0.051382</td>\n",
       "      <td>0.009115</td>\n",
       "      <td>0.017654</td>\n",
       "      <td>0.008119</td>\n",
       "      <td>0.020078</td>\n",
       "      <td>0.002034</td>\n",
       "      <td>0.009186</td>\n",
       "    </tr>\n",
       "    <tr>\n",
       "      <th>130</th>\n",
       "      <td>0.007715</td>\n",
       "      <td>0.024263</td>\n",
       "      <td>0.000000</td>\n",
       "      <td>0.010165</td>\n",
       "      <td>0.009368</td>\n",
       "      <td>0.014490</td>\n",
       "      <td>0.031528</td>\n",
       "      <td>0.025713</td>\n",
       "      <td>0.000000</td>\n",
       "      <td>0.003353</td>\n",
       "      <td>...</td>\n",
       "      <td>0.013226</td>\n",
       "      <td>0.007624</td>\n",
       "      <td>0.003728</td>\n",
       "      <td>0.017129</td>\n",
       "      <td>0.017362</td>\n",
       "      <td>0.000148</td>\n",
       "      <td>0.003274</td>\n",
       "      <td>0.020763</td>\n",
       "      <td>0.031152</td>\n",
       "      <td>0.017638</td>\n",
       "    </tr>\n",
       "    <tr>\n",
       "      <th>131</th>\n",
       "      <td>0.000000</td>\n",
       "      <td>0.055430</td>\n",
       "      <td>0.001907</td>\n",
       "      <td>0.019439</td>\n",
       "      <td>0.004142</td>\n",
       "      <td>0.021317</td>\n",
       "      <td>0.040156</td>\n",
       "      <td>0.010821</td>\n",
       "      <td>0.000000</td>\n",
       "      <td>0.017094</td>\n",
       "      <td>...</td>\n",
       "      <td>0.009547</td>\n",
       "      <td>0.008403</td>\n",
       "      <td>0.004560</td>\n",
       "      <td>0.063057</td>\n",
       "      <td>0.005800</td>\n",
       "      <td>0.000000</td>\n",
       "      <td>0.010410</td>\n",
       "      <td>0.012496</td>\n",
       "      <td>0.020657</td>\n",
       "      <td>0.016529</td>\n",
       "    </tr>\n",
       "  </tbody>\n",
       "</table>\n",
       "<p>132 rows × 2048 columns</p>\n",
       "</div>"
      ],
      "text/plain": [
       "         0         1         2         3         4         5         6     \\\n",
       "0    0.016744  0.108495  0.013626  0.003791  0.000000  0.009039  0.019817   \n",
       "1    0.007927  0.117221  0.017895  0.005206  0.013310  0.005422  0.023789   \n",
       "2    0.027057  0.021566  0.000000  0.008298  0.002564  0.000038  0.026140   \n",
       "3    0.004408  0.044817  0.008180  0.000635  0.024881  0.009360  0.003322   \n",
       "4    0.000000  0.032840  0.006135  0.008018  0.012183  0.002373  0.004054   \n",
       "..        ...       ...       ...       ...       ...       ...       ...   \n",
       "127  0.010886  0.043884  0.000000  0.019042  0.000962  0.005288  0.023153   \n",
       "128  0.014010  0.041942  0.000000  0.031901  0.000000  0.007595  0.019974   \n",
       "129  0.005754  0.054399  0.010760  0.002073  0.000000  0.021180  0.024132   \n",
       "130  0.007715  0.024263  0.000000  0.010165  0.009368  0.014490  0.031528   \n",
       "131  0.000000  0.055430  0.001907  0.019439  0.004142  0.021317  0.040156   \n",
       "\n",
       "         7         8         9     ...      2038      2039      2040  \\\n",
       "0    0.005525  0.004022  0.006196  ...  0.057314  0.010364  0.016461   \n",
       "1    0.010967  0.000404  0.009620  ...  0.053740  0.008365  0.006098   \n",
       "2    0.054689  0.000000  0.010843  ...  0.006494  0.005756  0.001171   \n",
       "3    0.002923  0.008981  0.003228  ...  0.003263  0.004417  0.000000   \n",
       "4    0.000000  0.000000  0.002682  ...  0.000838  0.014696  0.008568   \n",
       "..        ...       ...       ...  ...       ...       ...       ...   \n",
       "127  0.005172  0.000000  0.007133  ...  0.034093  0.004905  0.011771   \n",
       "128  0.012921  0.000000  0.012657  ...  0.026043  0.005394  0.004629   \n",
       "129  0.012696  0.000000  0.009076  ...  0.008085  0.000174  0.006239   \n",
       "130  0.025713  0.000000  0.003353  ...  0.013226  0.007624  0.003728   \n",
       "131  0.010821  0.000000  0.017094  ...  0.009547  0.008403  0.004560   \n",
       "\n",
       "         2041      2042      2043      2044      2045      2046      2047  \n",
       "0    0.005144  0.006544  0.007788  0.018945  0.000000  0.036039  0.029907  \n",
       "1    0.013394  0.002149  0.001031  0.013817  0.003713  0.015468  0.029959  \n",
       "2    0.054404  0.007674  0.000000  0.014976  0.007934  0.000000  0.028868  \n",
       "3    0.000000  0.007979  0.003409  0.100969  0.010325  0.007065  0.000857  \n",
       "4    0.000000  0.004164  0.002513  0.002589  0.006353  0.057524  0.000000  \n",
       "..        ...       ...       ...       ...       ...       ...       ...  \n",
       "127  0.069656  0.000000  0.000000  0.013715  0.012364  0.021259  0.019437  \n",
       "128  0.033064  0.000622  0.000000  0.014486  0.030400  0.002662  0.028263  \n",
       "129  0.051382  0.009115  0.017654  0.008119  0.020078  0.002034  0.009186  \n",
       "130  0.017129  0.017362  0.000148  0.003274  0.020763  0.031152  0.017638  \n",
       "131  0.063057  0.005800  0.000000  0.010410  0.012496  0.020657  0.016529  \n",
       "\n",
       "[132 rows x 2048 columns]"
      ]
     },
     "execution_count": 12,
     "metadata": {},
     "output_type": "execute_result"
    }
   ],
   "source": [
    "import pandas as pd\n",
    "extracted_features_df=pd.DataFrame(feature_list)\n",
    "extracted_features_df"
   ]
  },
  {
   "cell_type": "code",
   "execution_count": 13,
   "id": "abf0f08e",
   "metadata": {},
   "outputs": [],
   "source": [
    "import pickle\n",
    "pickle.dump(feature_list,open('embeddings.pkl','wb'))\n",
    "pickle.dump(filenames,open('filenames.pkl','wb'))"
   ]
  },
  {
   "cell_type": "code",
   "execution_count": null,
   "id": "a9b68ce4",
   "metadata": {},
   "outputs": [],
   "source": []
  }
 ],
 "metadata": {
  "kernelspec": {
   "display_name": "Python 3 (ipykernel)",
   "language": "python",
   "name": "python3"
  },
  "language_info": {
   "codemirror_mode": {
    "name": "ipython",
    "version": 3
   },
   "file_extension": ".py",
   "mimetype": "text/x-python",
   "name": "python",
   "nbconvert_exporter": "python",
   "pygments_lexer": "ipython3",
   "version": "3.11.5"
  }
 },
 "nbformat": 4,
 "nbformat_minor": 5
}
